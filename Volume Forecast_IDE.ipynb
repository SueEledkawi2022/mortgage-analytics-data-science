{
 "cells": [
  {
   "cell_type": "markdown",
   "metadata": {
    "application/vnd.databricks.v1+cell": {
     "cellMetadata": {
      "byteLimit": 2048000,
      "rowLimit": 10000
     },
     "inputWidgets": {},
     "nuid": "99068bc9-04ef-4047-9fa6-67398537629a",
     "showTitle": false,
     "title": ""
    }
   },
   "source": [
    "# Volume Forecast\n",
    "\n",
    "- **V1**: \n",
    "  - By month and by year \n",
    "  - **Funded only**: given the used **MBA Forecast** is for **funded loans**\n",
    "  - **Clean Clients only**: given it showed **highest correlation** between dollar amount and loan volume unit change (thus most confident results..)\n",
    "- **V2**: \n",
    "    - LoanTypes doesn't make sense/doesn't affect seasonality (use loan purpose instead) - Margie\n",
    "    - **Groupby : interest rates ranges + loan purpose** -> seasonality would be detected better this way - Margie\n",
    "    - Need to break it into two (separately) : \n",
    "      - Loan Type Volumes is more for Employee (workload purposes..)\n",
    "      1) Seasonality  \n",
    "      2) Loan Type\n"
   ]
  },
  {
   "cell_type": "markdown",
   "metadata": {
    "application/vnd.databricks.v1+cell": {
     "cellMetadata": {
      "byteLimit": 2048000,
      "rowLimit": 10000
     },
     "inputWidgets": {},
     "nuid": "db611c2f-7873-4c7e-bf65-0c0f6c0eb6b7",
     "showTitle": false,
     "title": ""
    }
   },
   "source": [
    "## Imports"
   ]
  },
  {
   "cell_type": "code",
   "execution_count": null,
   "metadata": {
    "application/vnd.databricks.v1+cell": {
     "cellMetadata": {
      "byteLimit": 2048000,
      "rowLimit": 10000
     },
     "inputWidgets": {},
     "nuid": "44017549-a9b3-4fe6-a0f0-2db17b22e07e",
     "showTitle": false,
     "title": ""
    }
   },
   "outputs": [],
   "source": [
    "import numpy as np\n",
    "import pandas as pd\n",
    "import pyspark.pandas as ps\n",
    "from pandas.tseries.offsets import BMonthEnd\n",
    "from pandas.tseries.offsets import CustomBusinessDay, MonthEnd\n",
    "from functools import reduce\n",
    "import warnings\n",
    "warnings.simplefilter(action='ignore', category=FutureWarning)\n",
    "pd.options.mode.chained_assignment = None  # default='warn'\n",
    "\n",
    "import os\n",
    "import sys\n",
    "from databricks.sdk.runtime import *\n",
    "\n",
    "## Notebook imports\n",
    "# nb path\n",
    "sys.path.append(os.path.dirname(os.path.abspath('/Workspace/Shared/data_science/nexus_vision/Efficiency_Model_TDS1042')))\n",
    "from input_data import read_sql_data, create_mba_forecast_df\n",
    "import configs as c\n",
    "from preprocess_data import convert_col_types, drop_nulls, create_ymd_cols, subset_data\n",
    "from create_metrics import create_interest_rate_range_col, groupby_for_loans_amount_and_volume, calculate_percent_change, calulate_and_analyse_loan_volume_amount_correlations, calculate_cumulative_quarters\n",
    "from create_forecast import prepare_data_for_forecast, apply_mba_forecast"
   ]
  },
  {
   "cell_type": "markdown",
   "metadata": {
    "application/vnd.databricks.v1+cell": {
     "cellMetadata": {
      "byteLimit": 2048000,
      "rowLimit": 10000
     },
     "inputWidgets": {},
     "nuid": "ed744456-b470-4940-9720-2368527c54ee",
     "showTitle": false,
     "title": ""
    }
   },
   "source": [
    "## Read Data"
   ]
  },
  {
   "cell_type": "code",
   "execution_count": null,
   "metadata": {
    "application/vnd.databricks.v1+cell": {
     "cellMetadata": {
      "byteLimit": 2048000,
      "rowLimit": 10000
     },
     "inputWidgets": {},
     "nuid": "dca852e7-a3d9-4c0b-856e-32faeaab482e",
     "showTitle": false,
     "title": ""
    }
   },
   "outputs": [],
   "source": [
    "sandbox = \"datause1_sandbox\"\n",
    "folder = \"nexus_vision\"\n",
    "dataset1 = \"ds_unique_loan_record\"\n",
    "dataset2 = \"ds_data_and_ds_data_prior\""
   ]
  },
  {
   "cell_type": "code",
   "execution_count": null,
   "metadata": {
    "application/vnd.databricks.v1+cell": {
     "cellMetadata": {
      "byteLimit": 2048000,
      "rowLimit": 10000
     },
     "inputWidgets": {},
     "nuid": "18dd864d-2731-4bef-a05b-9a1fc25e23c4",
     "showTitle": false,
     "title": ""
    }
   },
   "outputs": [
    {
     "data": {
      "text/plain": [
       "\u001b[0;31m---------------------------------------------------------------------------\u001b[0m\n",
       "\u001b[0;31mNameError\u001b[0m                                 Traceback (most recent call last)\n",
       "File \u001b[0;32m<command-2565087960174922>, line 3\u001b[0m\n",
       "\u001b[1;32m      1\u001b[0m \u001b[38;5;66;03m# Get UniqueLoanRecord - This dataset will be used to calculate loan fallouts \u001b[39;00m\n",
       "\u001b[1;32m      2\u001b[0m \u001b[38;5;66;03m# created by Margie - pulled by Sue\u001b[39;00m\n",
       "\u001b[0;32m----> 3\u001b[0m unique_loans_df \u001b[38;5;241m=\u001b[39m read_sql_data(sandbox, folder, dataset1)\n",
       "\u001b[1;32m      5\u001b[0m \u001b[38;5;66;03m# Get DSData = DSDataPrior + DSData - has all historical-Oct8th \u001b[39;00m\n",
       "\u001b[1;32m      6\u001b[0m \u001b[38;5;66;03m# created by Margie - pulled by Cameron\u001b[39;00m\n",
       "\u001b[1;32m      7\u001b[0m dsdata \u001b[38;5;241m=\u001b[39m read_sql_data(sandbox, folder, dataset2)\n",
       "\n",
       "File \u001b[0;32m/Workspace/Shared/data_science/nexus_vision/Efficiency_Model_TDS1042/input_data.py:9\u001b[0m, in \u001b[0;36mread_sql_data\u001b[0;34m(sandbox, folder, dataset)\u001b[0m\n",
       "\u001b[1;32m      8\u001b[0m \u001b[38;5;28;01mdef\u001b[39;00m \u001b[38;5;21mread_sql_data\u001b[39m(sandbox, folder, dataset):\n",
       "\u001b[0;32m----> 9\u001b[0m     dataset_spark \u001b[38;5;241m=\u001b[39m \u001b[43mspark\u001b[49m\u001b[38;5;241m.\u001b[39msql(\u001b[38;5;124mf\u001b[39m\u001b[38;5;124m\"\u001b[39m\u001b[38;5;124mSELECT * FROM \u001b[39m\u001b[38;5;132;01m{\u001b[39;00mc\u001b[38;5;241m.\u001b[39mSANDBOX\u001b[38;5;132;01m}\u001b[39;00m\u001b[38;5;124m.\u001b[39m\u001b[38;5;132;01m{\u001b[39;00mc\u001b[38;5;241m.\u001b[39mFOLDER\u001b[38;5;132;01m}\u001b[39;00m\u001b[38;5;124m.\u001b[39m\u001b[38;5;132;01m{\u001b[39;00mc\u001b[38;5;241m.\u001b[39mDATASET1\u001b[38;5;132;01m}\u001b[39;00m\u001b[38;5;124m\"\u001b[39m)\n",
       "\u001b[1;32m     10\u001b[0m     dataset_pd \u001b[38;5;241m=\u001b[39m dataset_spark\u001b[38;5;241m.\u001b[39mtoPandas()\n",
       "\u001b[1;32m     11\u001b[0m     \u001b[38;5;28;01mreturn\u001b[39;00m dataset_pd\n",
       "\n",
       "\u001b[0;31mNameError\u001b[0m: name 'spark' is not defined"
      ]
     },
     "metadata": {
      "application/vnd.databricks.v1+output": {
       "arguments": {},
       "data": "\u001b[0;31m---------------------------------------------------------------------------\u001b[0m\n\u001b[0;31mNameError\u001b[0m                                 Traceback (most recent call last)\nFile \u001b[0;32m<command-2565087960174922>, line 3\u001b[0m\n\u001b[1;32m      1\u001b[0m \u001b[38;5;66;03m# Get UniqueLoanRecord - This dataset will be used to calculate loan fallouts \u001b[39;00m\n\u001b[1;32m      2\u001b[0m \u001b[38;5;66;03m# created by Margie - pulled by Sue\u001b[39;00m\n\u001b[0;32m----> 3\u001b[0m unique_loans_df \u001b[38;5;241m=\u001b[39m read_sql_data(sandbox, folder, dataset1)\n\u001b[1;32m      5\u001b[0m \u001b[38;5;66;03m# Get DSData = DSDataPrior + DSData - has all historical-Oct8th \u001b[39;00m\n\u001b[1;32m      6\u001b[0m \u001b[38;5;66;03m# created by Margie - pulled by Cameron\u001b[39;00m\n\u001b[1;32m      7\u001b[0m dsdata \u001b[38;5;241m=\u001b[39m read_sql_data(sandbox, folder, dataset2)\n\nFile \u001b[0;32m/Workspace/Shared/data_science/nexus_vision/Efficiency_Model_TDS1042/input_data.py:9\u001b[0m, in \u001b[0;36mread_sql_data\u001b[0;34m(sandbox, folder, dataset)\u001b[0m\n\u001b[1;32m      8\u001b[0m \u001b[38;5;28;01mdef\u001b[39;00m \u001b[38;5;21mread_sql_data\u001b[39m(sandbox, folder, dataset):\n\u001b[0;32m----> 9\u001b[0m     dataset_spark \u001b[38;5;241m=\u001b[39m \u001b[43mspark\u001b[49m\u001b[38;5;241m.\u001b[39msql(\u001b[38;5;124mf\u001b[39m\u001b[38;5;124m\"\u001b[39m\u001b[38;5;124mSELECT * FROM \u001b[39m\u001b[38;5;132;01m{\u001b[39;00mc\u001b[38;5;241m.\u001b[39mSANDBOX\u001b[38;5;132;01m}\u001b[39;00m\u001b[38;5;124m.\u001b[39m\u001b[38;5;132;01m{\u001b[39;00mc\u001b[38;5;241m.\u001b[39mFOLDER\u001b[38;5;132;01m}\u001b[39;00m\u001b[38;5;124m.\u001b[39m\u001b[38;5;132;01m{\u001b[39;00mc\u001b[38;5;241m.\u001b[39mDATASET1\u001b[38;5;132;01m}\u001b[39;00m\u001b[38;5;124m\"\u001b[39m)\n\u001b[1;32m     10\u001b[0m     dataset_pd \u001b[38;5;241m=\u001b[39m dataset_spark\u001b[38;5;241m.\u001b[39mtoPandas()\n\u001b[1;32m     11\u001b[0m     \u001b[38;5;28;01mreturn\u001b[39;00m dataset_pd\n\n\u001b[0;31mNameError\u001b[0m: name 'spark' is not defined",
       "errorSummary": "<span class='ansi-red-fg'>NameError</span>: name 'spark' is not defined",
       "errorTraceType": "ansi",
       "metadata": {},
       "type": "ipynbError"
      }
     },
     "output_type": "display_data"
    }
   ],
   "source": [
    "# Get UniqueLoanRecord - This dataset will be used to calculate loan fallouts \n",
    "# created by Margie - pulled by Sue\n",
    "unique_loans_df = read_sql_data(sandbox, folder, dataset1)\n",
    "\n",
    "# Get DSData = DSDataPrior + DSData - has all historical-Oct8th \n",
    "# created by Margie - pulled by Cameron\n",
    "dsdata = read_sql_data(sandbox, folder, dataset2)"
   ]
  },
  {
   "cell_type": "code",
   "execution_count": null,
   "metadata": {
    "application/vnd.databricks.v1+cell": {
     "cellMetadata": {
      "byteLimit": 2048000,
      "rowLimit": 10000
     },
     "inputWidgets": {},
     "nuid": "64d00d8d-a835-48d1-a6b4-28ce5b0d98cb",
     "showTitle": false,
     "title": ""
    }
   },
   "outputs": [
    {
     "data": {
      "text/plain": []
     },
     "metadata": {
      "application/vnd.databricks.v1+output": {
       "arguments": {},
       "data": "",
       "errorSummary": "Command skipped",
       "errorTraceType": "ansi",
       "metadata": {},
       "type": "ipynbError"
      }
     },
     "output_type": "display_data"
    }
   ],
   "source": [
    "## Define parameters, these will be periodically updated as needed by DS\n",
    "dollar_amount_list = [333, 463, 444, 399, 422, 517, 543, 519]\n",
    "quarters = ['Q1_23', 'Q2_23','Q3_23','Q4_23','Q1_24', 'Q2_24','Q3_24','Q4_24']\n",
    "MBA_forecast = create_mba_forecast_df(dollar_amount_list, quarters)\n",
    "MBA_forecast"
   ]
  },
  {
   "cell_type": "markdown",
   "metadata": {
    "application/vnd.databricks.v1+cell": {
     "cellMetadata": {
      "byteLimit": 2048000,
      "rowLimit": 10000
     },
     "inputWidgets": {},
     "nuid": "9a223b0b-7e55-4c67-a1e4-2a97e2d4a6b7",
     "showTitle": false,
     "title": ""
    }
   },
   "source": [
    "## Data Preprocessing"
   ]
  },
  {
   "cell_type": "code",
   "execution_count": null,
   "metadata": {
    "application/vnd.databricks.v1+cell": {
     "cellMetadata": {
      "byteLimit": 2048000,
      "rowLimit": 10000
     },
     "inputWidgets": {},
     "nuid": "d78b639a-9ff0-4452-b481-a02a5ce49b86",
     "showTitle": false,
     "title": ""
    }
   },
   "outputs": [
    {
     "data": {
      "text/plain": []
     },
     "metadata": {
      "application/vnd.databricks.v1+output": {
       "arguments": {},
       "data": "",
       "errorSummary": "Command skipped",
       "errorTraceType": "ansi",
       "metadata": {},
       "type": "ipynbError"
      }
     },
     "output_type": "display_data"
    }
   ],
   "source": [
    "## Drop NULL ApplicationDate -> Lead loans, do not want that in my data - Margie\n",
    "dsdata = drop_nulls(dsdata, 'ApplicationDate')\n",
    "\n",
    "## convert numeric cols dsdata\n",
    "dsdata = convert_col_types(dsdata)\n",
    "\n",
    "## Create year and month cols from ApplicationDate column\n",
    "dsdata = create_ymd_cols(dsdata, 'ApplicationDate', year=True, month=True, day=False, ymd=False)\n",
    "\n",
    "## Subset dataset as desired\n",
    "funded_clean_clients_loans_dsdata = subset_data(dsdata, only_funded_loans=True, only_clean_clients=True)"
   ]
  },
  {
   "cell_type": "code",
   "execution_count": null,
   "metadata": {
    "application/vnd.databricks.v1+cell": {
     "cellMetadata": {
      "byteLimit": 2048000,
      "rowLimit": 10000
     },
     "inputWidgets": {},
     "nuid": "0d71e708-1664-40af-967b-2c3e659e101c",
     "showTitle": false,
     "title": ""
    }
   },
   "outputs": [
    {
     "data": {
      "text/plain": []
     },
     "metadata": {
      "application/vnd.databricks.v1+output": {
       "arguments": {},
       "data": "",
       "errorSummary": "Command skipped",
       "errorTraceType": "ansi",
       "metadata": {},
       "type": "ipynbError"
      }
     },
     "output_type": "display_data"
    }
   ],
   "source": [
    "## Create interest rate ranges, to include with volume forecast \n",
    "funded_clean_clients_loans_dsdata = create_interest_rate_range_col(funded_clean_clients_loans_dsdata, 'IntRate')\n",
    "\n",
    "## Let's look at correlations between loan dollar amount and loan volume w.r.t. both's unit change (percent increase/decrease) \n",
    "calulate_and_analyse_loan_volume_amount_correlations(funded_clean_clients_loans_dsdata)"
   ]
  },
  {
   "cell_type": "markdown",
   "metadata": {
    "application/vnd.databricks.v1+cell": {
     "cellMetadata": {
      "byteLimit": 2048000,
      "rowLimit": 10000
     },
     "inputWidgets": {},
     "nuid": "daf72ed2-d33e-466e-b542-f3badaca92c0",
     "showTitle": false,
     "title": ""
    }
   },
   "source": [
    "So moving forward, based on the above correlations..:\n",
    "1) When using MBA Forecast data, we will assume, **unit increase in $$ amount -equiv- to unit increase in Application Volume**\n",
    "2) We will (evidently) be **more confident in our Clean-Client forecasts**...so that will be V1 forecast (for the sake of *validation*)"
   ]
  },
  {
   "cell_type": "markdown",
   "metadata": {
    "application/vnd.databricks.v1+cell": {
     "cellMetadata": {
      "byteLimit": 2048000,
      "rowLimit": 10000
     },
     "inputWidgets": {},
     "nuid": "2a2f37cd-c5bf-459e-a77b-1ab73f5a5770",
     "showTitle": false,
     "title": ""
    }
   },
   "source": [
    "## Skeleton Volume Forecast\n",
    "- Predict Volume Based on **histoical data + Seasonality Adjustment**\n",
    "- V1: **Forecasting Funded Loans Volumes** "
   ]
  },
  {
   "cell_type": "markdown",
   "metadata": {
    "application/vnd.databricks.v1+cell": {
     "cellMetadata": {
      "byteLimit": 2048000,
      "rowLimit": 10000
     },
     "inputWidgets": {},
     "nuid": "8d4c1ebd-3ce1-4c04-8169-2a6285428d44",
     "showTitle": false,
     "title": ""
    }
   },
   "source": [
    "### Forecasting for Loan Application Volume\n",
    "\n",
    "- Assumptions:\n",
    "  - **MBA Mort.Loan Originations Forecasts** are relatively close to expected\n",
    "  - Unit change in dollar equiv. to unit change in Volume  (direct high positive correlation)\n",
    "\n",
    "- Logic: \n",
    "  - Translated MBA quarterly forecasts to percentage change\n",
    "  - Used **last quarter of Q3_2023 real data** (cumsum) and applied forecasts\n",
    "  - To get monthly forecasts, the quarterly's were split (per David H's rec)\n",
    "  \n",
    "  - consequently monthly's for the same quarter will appear to be a straight line"
   ]
  },
  {
   "cell_type": "code",
   "execution_count": null,
   "metadata": {
    "application/vnd.databricks.v1+cell": {
     "cellMetadata": {
      "byteLimit": 2048000,
      "rowLimit": 10000
     },
     "inputWidgets": {},
     "nuid": "d67ef91b-41f9-4035-87e7-528bfb84c0be",
     "showTitle": false,
     "title": ""
    }
   },
   "outputs": [
    {
     "data": {
      "text/plain": []
     },
     "metadata": {
      "application/vnd.databricks.v1+output": {
       "arguments": {},
       "data": "",
       "errorSummary": "Command skipped",
       "errorTraceType": "ansi",
       "metadata": {},
       "type": "ipynbError"
      }
     },
     "output_type": "display_data"
    }
   ],
   "source": [
    "data_to_forecast = prepare_data_for_forecast(funded_clean_clients_loans_dsdata)"
   ]
  },
  {
   "cell_type": "code",
   "execution_count": null,
   "metadata": {
    "application/vnd.databricks.v1+cell": {
     "cellMetadata": {
      "byteLimit": 2048000,
      "rowLimit": 10000
     },
     "inputWidgets": {},
     "nuid": "64483f95-91b9-4cf9-8afb-5227edc0bc16",
     "showTitle": false,
     "title": ""
    }
   },
   "outputs": [
    {
     "data": {
      "text/plain": []
     },
     "metadata": {
      "application/vnd.databricks.v1+output": {
       "arguments": {},
       "data": "",
       "errorSummary": "Command skipped",
       "errorTraceType": "ansi",
       "metadata": {},
       "type": "ipynbError"
      }
     },
     "output_type": "display_data"
    }
   ],
   "source": [
    "display(data_to_forecast)"
   ]
  },
  {
   "cell_type": "code",
   "execution_count": null,
   "metadata": {
    "application/vnd.databricks.v1+cell": {
     "cellMetadata": {
      "byteLimit": 2048000,
      "rowLimit": 10000
     },
     "inputWidgets": {},
     "nuid": "0cc8cf87-7d51-4eca-b0ad-86af6d967ac4",
     "showTitle": false,
     "title": ""
    }
   },
   "outputs": [
    {
     "data": {
      "text/plain": []
     },
     "metadata": {
      "application/vnd.databricks.v1+output": {
       "arguments": {},
       "data": "",
       "errorSummary": "Command skipped",
       "errorTraceType": "ansi",
       "metadata": {},
       "type": "ipynbError"
      }
     },
     "output_type": "display_data"
    }
   ],
   "source": [
    "all_forecasted = apply_mba_forecast(data_to_forecast, MBA_forecast, '2023-09-01')\n",
    "all_forecasted[all_forecasted['Clientkey']==168]"
   ]
  }
 ],
 "metadata": {
  "application/vnd.databricks.v1+notebook": {
   "dashboards": [],
   "language": "python",
   "notebookMetadata": {
    "pythonIndentUnit": 4
   },
   "notebookName": "Volume Forecast_IDE",
   "widgets": {}
  },
  "language_info": {
   "name": "python"
  }
 },
 "nbformat": 4,
 "nbformat_minor": 0
}
