{
 "cells": [
  {
   "cell_type": "markdown",
   "metadata": {
    "application/vnd.databricks.v1+cell": {
     "cellMetadata": {
      "byteLimit": 2048000,
      "rowLimit": 10000
     },
     "inputWidgets": {},
     "nuid": "99068bc9-04ef-4047-9fa6-67398537629a",
     "showTitle": false,
     "title": ""
    }
   },
   "source": [
    "# Volume Forecast\n",
    "\n",
    "- **V1**: \n",
    "  - By month and by year \n",
    "  - **Funded only**: given the used **MBA Forecast** is for **funded loans**\n",
    "  - **Clean Clients only**: given it showed **highest correlation** between dollar amount and loan volume unit change (thus most confident results..)\n",
    "- **V2**: \n",
    "    - LoanTypes doesn't make sense/doesn't affect seasonality (use loan purpose instead) - Margie\n",
    "    - **Groupby : interest rates ranges + loan purpose** -> seasonality would be detected better this way - Margie\n",
    "    - Need to break it into two (separately) : \n",
    "      - Loan Type Volumes is more for Employee (workload purposes..)\n",
    "      1) Seasonality  \n",
    "      2) Loan Type\n"
   ]
  },
  {
   "cell_type": "markdown",
   "metadata": {
    "application/vnd.databricks.v1+cell": {
     "cellMetadata": {
      "byteLimit": 2048000,
      "rowLimit": 10000
     },
     "inputWidgets": {},
     "nuid": "db611c2f-7873-4c7e-bf65-0c0f6c0eb6b7",
     "showTitle": false,
     "title": ""
    }
   },
   "source": [
    "## Imports"
   ]
  },
  {
   "cell_type": "code",
   "execution_count": 0,
   "metadata": {
    "application/vnd.databricks.v1+cell": {
     "cellMetadata": {
      "byteLimit": 2048000,
      "rowLimit": 10000
     },
     "inputWidgets": {},
     "nuid": "44017549-a9b3-4fe6-a0f0-2db17b22e07e",
     "showTitle": false,
     "title": ""
    }
   },
   "outputs": [],
   "source": [
    "import numpy as np\n",
    "import pandas as pd\n",
    "import pyspark.pandas as ps\n",
    "from pandas.tseries.offsets import BMonthEnd\n",
    "import matplotlib.pyplot as plt\n",
    "from pandas.tseries.offsets import CustomBusinessDay, MonthEnd\n",
    "from functools import reduce\n",
    "import warnings\n",
    "warnings.simplefilter(action='ignore', category=FutureWarning)\n",
    "pd.options.mode.chained_assignment = None  # default='warn'\n",
    "\n",
    "import os\n",
    "import sys\n",
    "\n",
    "## Notebook imports\n",
    "# nb path\n",
    "sys.path.append(os.path.dirname(os.path.abspath('/Workspace/Shared/data_science/nexus_vision/Efficiency_Model_TDS1042')))\n",
    "from input_data import read_sql_data, create_mba_forecast_df\n",
    "import configs as c\n",
    "from preprocess_data import convert_col_types, drop_nulls, create_ymd_cols, subset_data\n",
    "from create_metrics import create_interest_rate_range_col, groupby_for_loans_amount_and_volume, calculate_percent_change, calulate_and_analyse_loan_volume_amount_correlations, calculate_cumulative_quarters"
   ]
  },
  {
   "cell_type": "markdown",
   "metadata": {
    "application/vnd.databricks.v1+cell": {
     "cellMetadata": {
      "byteLimit": 2048000,
      "rowLimit": 10000
     },
     "inputWidgets": {},
     "nuid": "ed744456-b470-4940-9720-2368527c54ee",
     "showTitle": false,
     "title": ""
    }
   },
   "source": [
    "## Read Data"
   ]
  },
  {
   "cell_type": "code",
   "execution_count": 0,
   "metadata": {
    "application/vnd.databricks.v1+cell": {
     "cellMetadata": {
      "byteLimit": 2048000,
      "rowLimit": 10000
     },
     "inputWidgets": {},
     "nuid": "dca852e7-a3d9-4c0b-856e-32faeaab482e",
     "showTitle": false,
     "title": ""
    }
   },
   "outputs": [],
   "source": [
    "##TODO: delete below once imports... \n",
    "\n",
    "def read_sql_data(sandbox, folder, dataset):\n",
    "    dataset_spark = spark.sql(f\"SELECT * FROM {sandbox}.{folder}.{dataset}\")\n",
    "    dataset_pd = dataset_spark.toPandas()\n",
    "    return dataset_pd\n",
    "\n",
    "sandbox = \"datause1_sandbox\"\n",
    "folder = \"nexus_vision\"\n",
    "dataset1 = \"ds_unique_loan_record\"\n",
    "dataset2 = \"ds_data_and_ds_data_prior\""
   ]
  },
  {
   "cell_type": "code",
   "execution_count": 0,
   "metadata": {
    "application/vnd.databricks.v1+cell": {
     "cellMetadata": {
      "byteLimit": 2048000,
      "rowLimit": 10000
     },
     "inputWidgets": {},
     "nuid": "18dd864d-2731-4bef-a05b-9a1fc25e23c4",
     "showTitle": false,
     "title": ""
    }
   },
   "outputs": [],
   "source": [
    "# Get UniqueLoanRecord - This dataset will be used to calculate loan fallouts \n",
    "# created by Margie - pulled by Sue\n",
    "unique_loans_df = read_sql_data(sandbox, folder, dataset1)\n",
    "\n",
    "# Get DSData = DSDataPrior + DSData - has all historical-Oct8th \n",
    "# created by Margie - pulled by Cameron\n",
    "dsdata = read_sql_data(sandbox, folder, dataset2)"
   ]
  },
  {
   "cell_type": "code",
   "execution_count": 0,
   "metadata": {
    "application/vnd.databricks.v1+cell": {
     "cellMetadata": {
      "byteLimit": 2048000,
      "rowLimit": 10000
     },
     "inputWidgets": {},
     "nuid": "78a4debd-ea4d-4282-b980-9e5437a4d75f",
     "showTitle": false,
     "title": ""
    }
   },
   "outputs": [],
   "source": [
    "def create_mba_forecast_df(dollar_amount_list, quarters):\n",
    "    # Create DF\n",
    "    MBA_data = pd.DataFrame({\n",
    "        'BillionDollars': dollar_amount_list,\n",
    "        'Quarter': quarters\n",
    "    })\n",
    "\n",
    "    # Extract years and quarters from the input quarters list\n",
    "    years = ['20' + q.split('_')[1] for q in quarters]  \n",
    "    quarters = [q.split('_')[0] for q in quarters]  \n",
    "\n",
    "    # Mapping the quarter strings to specific months\n",
    "    quarter_to_month = {'Q1': '03', 'Q2': '06', 'Q3': '09', 'Q4': '12'}\n",
    "    months = [quarter_to_month[q] for q in quarters]  # Last month of each quarter\n",
    "\n",
    "    # Creating a new column with formatted dates\n",
    "    MBA_data['FormattedQuarter'] = pd.to_datetime([f\"{y}-{m}\" for y, m in zip(years, months)])\n",
    "    MBA_data.set_index('FormattedQuarter', inplace=True)\n",
    "\n",
    "    # Normalize the billion-dollar amount to percentages\n",
    "    MBA_data['NormalizedForecast'] = MBA_data['BillionDollars'].pct_change() * 100\n",
    "    MBA_data = MBA_data.reset_index()\n",
    "\n",
    "    # Let's only grab the columns we care about from MBA data\n",
    "    MBA_forecast = MBA_data[['Quarter','FormattedQuarter', 'NormalizedForecast']]\n",
    "    MBA_forecast = MBA_forecast.rename(columns={'FormattedQuarter':'YMD'})\n",
    "\n",
    "    return MBA_forecast"
   ]
  },
  {
   "cell_type": "code",
   "execution_count": 0,
   "metadata": {
    "application/vnd.databricks.v1+cell": {
     "cellMetadata": {
      "byteLimit": 2048000,
      "rowLimit": 10000
     },
     "inputWidgets": {},
     "nuid": "64d00d8d-a835-48d1-a6b4-28ce5b0d98cb",
     "showTitle": false,
     "title": ""
    }
   },
   "outputs": [
    {
     "output_type": "execute_result",
     "data": {
      "text/html": [
       "<div>\n",
       "<style scoped>\n",
       "    .dataframe tbody tr th:only-of-type {\n",
       "        vertical-align: middle;\n",
       "    }\n",
       "\n",
       "    .dataframe tbody tr th {\n",
       "        vertical-align: top;\n",
       "    }\n",
       "\n",
       "    .dataframe thead th {\n",
       "        text-align: right;\n",
       "    }\n",
       "</style>\n",
       "<table border=\"1\" class=\"dataframe\">\n",
       "  <thead>\n",
       "    <tr style=\"text-align: right;\">\n",
       "      <th></th>\n",
       "      <th>Quarter</th>\n",
       "      <th>YMD</th>\n",
       "      <th>NormalizedForecast</th>\n",
       "    </tr>\n",
       "  </thead>\n",
       "  <tbody>\n",
       "    <tr>\n",
       "      <th>0</th>\n",
       "      <td>Q1_23</td>\n",
       "      <td>2023-03-01</td>\n",
       "      <td>NaN</td>\n",
       "    </tr>\n",
       "    <tr>\n",
       "      <th>1</th>\n",
       "      <td>Q2_23</td>\n",
       "      <td>2023-06-01</td>\n",
       "      <td>39.039039</td>\n",
       "    </tr>\n",
       "    <tr>\n",
       "      <th>2</th>\n",
       "      <td>Q3_23</td>\n",
       "      <td>2023-09-01</td>\n",
       "      <td>-4.103672</td>\n",
       "    </tr>\n",
       "    <tr>\n",
       "      <th>3</th>\n",
       "      <td>Q4_23</td>\n",
       "      <td>2023-12-01</td>\n",
       "      <td>-10.135135</td>\n",
       "    </tr>\n",
       "    <tr>\n",
       "      <th>4</th>\n",
       "      <td>Q1_24</td>\n",
       "      <td>2024-03-01</td>\n",
       "      <td>5.764411</td>\n",
       "    </tr>\n",
       "    <tr>\n",
       "      <th>5</th>\n",
       "      <td>Q2_24</td>\n",
       "      <td>2024-06-01</td>\n",
       "      <td>22.511848</td>\n",
       "    </tr>\n",
       "    <tr>\n",
       "      <th>6</th>\n",
       "      <td>Q3_24</td>\n",
       "      <td>2024-09-01</td>\n",
       "      <td>5.029014</td>\n",
       "    </tr>\n",
       "    <tr>\n",
       "      <th>7</th>\n",
       "      <td>Q4_24</td>\n",
       "      <td>2024-12-01</td>\n",
       "      <td>-4.419890</td>\n",
       "    </tr>\n",
       "  </tbody>\n",
       "</table>\n",
       "</div>"
      ],
      "text/plain": [
       "  Quarter        YMD  NormalizedForecast\n",
       "0   Q1_23 2023-03-01                 NaN\n",
       "1   Q2_23 2023-06-01           39.039039\n",
       "2   Q3_23 2023-09-01           -4.103672\n",
       "3   Q4_23 2023-12-01          -10.135135\n",
       "4   Q1_24 2024-03-01            5.764411\n",
       "5   Q2_24 2024-06-01           22.511848\n",
       "6   Q3_24 2024-09-01            5.029014\n",
       "7   Q4_24 2024-12-01           -4.419890"
      ]
     },
     "execution_count": 7,
     "metadata": {},
     "output_type": "execute_result"
    }
   ],
   "source": [
    "## Define parameters, these will be periodically updated as needed by DS\n",
    "dollar_amount_list = [333, 463, 444, 399, 422, 517, 543, 519]\n",
    "quarters = ['Q1_23', 'Q2_23','Q3_23','Q4_23','Q1_24', 'Q2_24','Q3_24','Q4_24']\n",
    "MBA_forecast = create_mba_forecast_df(dollar_amount_list, quarters)\n",
    "MBA_forecast"
   ]
  },
  {
   "cell_type": "markdown",
   "metadata": {
    "application/vnd.databricks.v1+cell": {
     "cellMetadata": {
      "byteLimit": 2048000,
      "rowLimit": 10000
     },
     "inputWidgets": {},
     "nuid": "9a223b0b-7e55-4c67-a1e4-2a97e2d4a6b7",
     "showTitle": false,
     "title": ""
    }
   },
   "source": [
    "## Data Preprocessing"
   ]
  },
  {
   "cell_type": "code",
   "execution_count": 0,
   "metadata": {
    "application/vnd.databricks.v1+cell": {
     "cellMetadata": {
      "byteLimit": 2048000,
      "rowLimit": 10000
     },
     "inputWidgets": {},
     "nuid": "12d49b70-a99b-47ca-9256-d117fb89a575",
     "showTitle": false,
     "title": ""
    }
   },
   "outputs": [],
   "source": [
    "# #TODO: Delete below once imports...all below in preprocess_data nb\n",
    "# # Define cols \n",
    "int_columns = [\n",
    "        'IDKey', 'Clientkey', 'Applicationkey', 'BusinessDaysAppToFund', 'BusinessDaysApptoUWSub',\n",
    "        'BusinessDaysApptoFinalApproval', 'BusinessDaysApptoClearToClose', 'BusinessDaysAppToProc',\n",
    "        'CreditScore','CurrentMilestonekey', 'SelfEmployed','UWCondCR','UWTouches','LoanOfficerEmployeeKey',\n",
    "        'LoanOfficerAsstEmployeeKey','ProcessorEmployeeKey','UnderwriterEmployeeKey','CloserEmployeeKey'\n",
    "        ]\n",
    "float_columns = [\n",
    "        'LoanAmount','LTV','CLTV','Apprval','IntRate','PNIPmt','PITIPmt','HTI','DTI','GrossIncome',\n",
    "        'LiquidAssets','CashfromBorrower'\n",
    "        ] \n",
    "datetime_columns = [\n",
    "        'ApplicationDate', 'SubmittoProc', 'UWSubmission', 'FinalApproval', 'Funded', 'FormattedQuarter', 'YMD'\n",
    "        ]\n",
    "def convert_col_types(df):\n",
    "    # Convert columns types as necessary...\n",
    "    for col in df.columns:\n",
    "        if col in int_columns:\n",
    "            df[col] = pd.to_numeric(df[col], errors='coerce').fillna(000).astype(int)\n",
    "        elif col in float_columns:\n",
    "            df[col] = pd.to_numeric(df[col], errors='coerce').fillna(000).astype(float)\n",
    "        elif col in datetime_columns:\n",
    "            df[col] = pd.to_datetime(df[col], errors='coerce')\n",
    "    return df \n",
    "\n",
    "\n",
    "def drop_nulls(df, col):\n",
    "    df = df[df[col]!='NULL']\n",
    "    return df \n",
    "\n",
    "def create_ymd_cols(df, date_col, year=False, month=False, day=False, ymd=False):\n",
    "    if year:\n",
    "        df['year'] = df[date_col].dt.year\n",
    "    if month:\n",
    "        df['month'] = df[date_col].dt.month\n",
    "    if day:\n",
    "        df['day'] = df[date_col].dt.month\n",
    "    if ymd:\n",
    "        df['YMD'] = pd.to_datetime(df[['year', 'month']].assign(day=1))\n",
    "        df['YMD'] = pd.to_datetime(df['YMD'].dt.strftime('%Y-%m-%d'))\n",
    "        # pd.to_datetime([f\"{y}-{m}\" for y, m in zip(years, months)])\n",
    "    return df\n",
    "\n",
    "## Only grab list of \"good clients\" -> provided Margie\n",
    "clientkeys = [168, 192, 213, 218, 223, 245, 252, 255, 257, 258]\n",
    "def subset_data(df, only_funded_loans=False, only_clean_clients=False, most_recent_year_data = False):\n",
    "    if only_funded_loans:\n",
    "        ## Subsetting: to ONLY funded loans\n",
    "        df = df[df['Funded'].notnull()]\n",
    "\n",
    "    if only_clean_clients:\n",
    "        ## Subesetting: to df_funded to ONLY clean clients\n",
    "        df = df[df['Clientkey'].isin(clientkeys)]\n",
    "    \n",
    "    if most_recent_year_data:\n",
    "        df = df[df['year'] == df['year'].unique().max()]\n",
    "\n",
    "    return df"
   ]
  },
  {
   "cell_type": "code",
   "execution_count": 0,
   "metadata": {
    "application/vnd.databricks.v1+cell": {
     "cellMetadata": {
      "byteLimit": 2048000,
      "rowLimit": 10000
     },
     "inputWidgets": {},
     "nuid": "d78b639a-9ff0-4452-b481-a02a5ce49b86",
     "showTitle": false,
     "title": ""
    }
   },
   "outputs": [],
   "source": [
    "## Drop NULL ApplicationDate -> Lead loans, do not want that in my data - Margie\n",
    "dsdata = drop_nulls(dsdata, 'ApplicationDate')\n",
    "\n",
    "## convert numeric cols dsdata\n",
    "dsdata = convert_col_types(dsdata)\n",
    "\n",
    "## Create year and month cols from ApplicationDate column\n",
    "dsdata = create_ymd_cols(dsdata, 'ApplicationDate', year=True, month=True, day=False, ymd=False)\n",
    "\n",
    "## Subset dataset as desired\n",
    "funded_clean_clients_loans_dsdata = subset_data(dsdata, only_funded_loans=True, only_clean_clients=True)"
   ]
  },
  {
   "cell_type": "code",
   "execution_count": 0,
   "metadata": {
    "application/vnd.databricks.v1+cell": {
     "cellMetadata": {
      "byteLimit": 2048000,
      "rowLimit": 10000
     },
     "inputWidgets": {},
     "nuid": "24b404af-ccc0-48ac-8cca-326e4fd6a1ef",
     "showTitle": false,
     "title": ""
    }
   },
   "outputs": [],
   "source": [
    "#TODO: Delete below once imports...all below in create_metrics nb\n",
    "\n",
    "# ranges, can change in config..\n",
    "ranges = ['<3', '>=3', '>=4', '>=5', '>=6', '>=7']\n",
    "def create_interest_rate_range_col(df, col):\n",
    "\n",
    "    # Create IntRate conditions \n",
    "    conditions = [\n",
    "    df[col] < 3,\n",
    "    (df[col] >= 3) & (df[col] < 4),\n",
    "    (df[col] >= 4) & (df[col] < 5),\n",
    "    (df[col] >= 5) & (df[col] < 6),\n",
    "    (df[col] >= 6) & (df[col] < 7),\n",
    "    df[col] >= 7\n",
    "    ]\n",
    "    # Assign the ranges to 'IntRateRanges' based on conditions using numpy.select()\n",
    "    df['IntRateRanges'] = np.select(conditions, ranges, default='Unknown')\n",
    "    return df \n",
    "\n",
    "volume_groupby_cols = ['Clientkey','year', 'month']\n",
    "loan_amount_groupby_cols = ['Clientkey','year', 'month','Applicationkey']\n",
    "def groupby_for_loans_amount_and_volume(df):\n",
    "    \n",
    "    ## groupby to extract loan volume per client by month-year\n",
    "    total_loan_volume_by_month_year = df.groupby(volume_groupby_cols)['Applicationkey'].nunique().reset_index(name='LoanVolume_my')\n",
    "\n",
    "    ## groupby to extract loan amount per client by month-year\n",
    "    unique_loan_amounts = df.groupby(loan_amount_groupby_cols)['LoanAmount'].last().reset_index()\n",
    "    total_loan_amount_by_month_year = unique_loan_amounts.groupby(volume_groupby_cols)['LoanAmount'].sum().reset_index(name='TotalLoanAmount_my')\n",
    "\n",
    "    ## create dataframe that outputs each client, along with their loan metrics..\n",
    "    loan_totals_by_month_year_ = [total_loan_volume_by_month_year, total_loan_amount_by_month_year]\n",
    "    loan_totals_by_month_year = reduce(lambda  left, right: pd.merge(left, right, on=volume_groupby_cols, how='left'), loan_totals_by_month_year_)\n",
    "    return loan_totals_by_month_year\n",
    "\n",
    "def calculate_percent_change(group):\n",
    "    ## clacluate percent change for LoanAmount and LoanVolume for correlation calculation..\n",
    "    group['percent_change_LoanVolume'] = group['LoanVolume_my'].pct_change()*100\n",
    "    group['percent_change_TotalLoanAmount'] = group['TotalLoanAmount_my'].pct_change()*100\n",
    "    return group\n",
    "\n",
    "def calulate_and_analyse_loan_volume_amount_correlations(df):\n",
    "    ## Function purpose: calculates correlation between loan dollar amount and loan volume w.r.t. both's unit change (percent increase/decrease)\n",
    "    ## Function output: a message indicating if we have a high positive, negative, or neutral (below 0.7) correlation between the two variables\n",
    "\n",
    "    ## Groupby and get Loan Amount and Volume totals\n",
    "    loan_totals_by_month_year = groupby_for_loans_amount_and_volume(df)\n",
    "\n",
    "    # Calculate percent-change of Loan Amount and Loan Volume and compare correlation..\n",
    "    loan_totals_by_month_year = loan_totals_by_month_year.groupby('Clientkey').apply(calculate_percent_change)\n",
    "    loan_totals_by_month_year_last_year_data = subset_data(loan_totals_by_month_year, only_funded_loans=False, only_clean_clients=False, most_recent_year_data=True)\n",
    "\n",
    "    ## create correlation dataframes \n",
    "    loan_totals_by_month_year_corr = loan_totals_by_month_year.corr()\n",
    "    # sub to 2023 data since that's what we'll use for forecasts...\n",
    "    loan_totals_by_month_year_last_year_data_corr = loan_totals_by_month_year_last_year_data.corr()\n",
    "\n",
    "\n",
    "    # Extract correlation value between the specified columns, for all data + most recent also\n",
    "    correlation_value_all_years = loan_totals_by_month_year_corr.loc['percent_change_LoanVolume', 'percent_change_TotalLoanAmount']\n",
    "    correlation_value_last_year = loan_totals_by_month_year_last_year_data_corr.loc['percent_change_LoanVolume', 'percent_change_TotalLoanAmount']\n",
    "\n",
    "\n",
    "    # Determine the nature of the correlation for both correlations (all years + last year)\n",
    "    ## all years\n",
    "    if correlation_value_all_years > 0.7:\n",
    "        correlation_type = \"high positive\"\n",
    "    elif correlation_value_all_years < 0:\n",
    "        correlation_type = \"negative\"\n",
    "    else:\n",
    "        correlation_type = \"neutral\"\n",
    "\n",
    "    # last year\n",
    "    if correlation_value_last_year > 0.7:\n",
    "        correlation_type_last_year = \"high positive\"\n",
    "    elif correlation_value_last_year < 0:\n",
    "        correlation_type_last_year = \"negative\"\n",
    "    else:\n",
    "        correlation_type_last_year = \"neutral\"\n",
    "\n",
    "    # Provide analysis message\n",
    "    analysis_message = f\"Correlations between the percent change of the total loans' dollar amount and percent change of loan volume are {correlation_value_all_years:.3f}, and {correlation_type}.\\nLast year's correlations between the two variables are {correlation_value_last_year:.3f}, and {correlation_type_last_year}.\"\n",
    "\n",
    "    return print(analysis_message)"
   ]
  },
  {
   "cell_type": "code",
   "execution_count": 0,
   "metadata": {
    "application/vnd.databricks.v1+cell": {
     "cellMetadata": {
      "byteLimit": 2048000,
      "rowLimit": 10000
     },
     "inputWidgets": {},
     "nuid": "0d71e708-1664-40af-967b-2c3e659e101c",
     "showTitle": false,
     "title": ""
    }
   },
   "outputs": [
    {
     "output_type": "stream",
     "name": "stdout",
     "output_type": "stream",
     "text": [
      "Correlations between the percent change of the total loans' dollar amount and percent change of loan volume are 0.738, and high positive.\nLast year's correlations between the two variables are 0.951, and high positive.\n"
     ]
    }
   ],
   "source": [
    "## Create interest rate ranges, to include with volume forecast \n",
    "funded_clean_clients_loans_dsdata = create_interest_rate_range_col(funded_clean_clients_loans_dsdata, 'IntRate')\n",
    "\n",
    "## Let's look at correlations between loan dollar amount and loan volume w.r.t. both's unit change (percent increase/decrease) \n",
    "calulate_and_analyse_loan_volume_amount_correlations(funded_clean_clients_loans_dsdata)"
   ]
  },
  {
   "cell_type": "markdown",
   "metadata": {
    "application/vnd.databricks.v1+cell": {
     "cellMetadata": {
      "byteLimit": 2048000,
      "rowLimit": 10000
     },
     "inputWidgets": {},
     "nuid": "daf72ed2-d33e-466e-b542-f3badaca92c0",
     "showTitle": false,
     "title": ""
    }
   },
   "source": [
    "So moving forward, based on the above correlations..:\n",
    "1) When using MBA Forecast data, we will assume, **unit increase in $$ amount -equiv- to unit increase in Application Volume**\n",
    "2) We will (evidently) be **more confident in our Clean-Client forecasts**...so that will be V1 forecast (for the sake of *validation*)"
   ]
  },
  {
   "cell_type": "markdown",
   "metadata": {
    "application/vnd.databricks.v1+cell": {
     "cellMetadata": {
      "byteLimit": 2048000,
      "rowLimit": 10000
     },
     "inputWidgets": {},
     "nuid": "2a2f37cd-c5bf-459e-a77b-1ab73f5a5770",
     "showTitle": false,
     "title": ""
    }
   },
   "source": [
    "## Skeleton Volume Forecast\n",
    "- Predict Volume Based on **histoical data + Seasonality Adjustment**\n",
    "- V1: **Forecasting Funded Loans Volumes** "
   ]
  },
  {
   "cell_type": "markdown",
   "metadata": {
    "application/vnd.databricks.v1+cell": {
     "cellMetadata": {
      "byteLimit": 2048000,
      "rowLimit": 10000
     },
     "inputWidgets": {},
     "nuid": "8d4c1ebd-3ce1-4c04-8169-2a6285428d44",
     "showTitle": false,
     "title": ""
    }
   },
   "source": [
    "### Forecasting for Loan Application Volume\n",
    "\n",
    "- Assumptions:\n",
    "  - **MBA Mort.Loan Originations Forecasts** are relatively close to expected\n",
    "  - Unit change in dollar equiv. to unit change in Volume  (direct high positive correlation)\n",
    "\n",
    "- Logic: \n",
    "  - Translated MBA quarterly forecasts to percentage change\n",
    "  - Used **last quarter of Q3_2023 real data** (cumsum) and applied forecasts\n",
    "  - To get monthly forecasts, the quarterly's were split (per David H's rec)\n",
    "  \n",
    "  - consequently monthly's for the same quarter will appear to be a straight line"
   ]
  },
  {
   "cell_type": "code",
   "execution_count": 0,
   "metadata": {
    "application/vnd.databricks.v1+cell": {
     "cellMetadata": {
      "byteLimit": 2048000,
      "rowLimit": 10000
     },
     "inputWidgets": {},
     "nuid": "b37255be-57ae-4d84-81c6-01cd9929b41c",
     "showTitle": false,
     "title": ""
    }
   },
   "outputs": [],
   "source": [
    "## TODO: get rid of below functions once imports complete from create_metrics.py, preprocess_data.py...\n",
    "## Get the cum-sum at the end of each quarter, to apply quarterly forecasts later...\n",
    "def calculate_cumulative_quarters(group):\n",
    "    # Sort the group by 'YMD' before calculating cumulative sum\n",
    "    group = group.sort_values('YMD')\n",
    "    \n",
    "    # Calculate cumulative sum for LoanVolume_my and TotalLoanAmount_my, resetting at the start of each quarter\n",
    "    group['LoanVolume_my_Q'] = group.groupby(group['YMD'].dt.to_period(\"Q\")).cumsum()['LoanVolume_my']\n",
    "    group['TotalLoanAmount_my_Q'] = group.groupby(group['YMD'].dt.to_period(\"Q\")).cumsum()['TotalLoanAmount_my']\n",
    "    \n",
    "    return group"
   ]
  },
  {
   "cell_type": "code",
   "execution_count": 0,
   "metadata": {
    "application/vnd.databricks.v1+cell": {
     "cellMetadata": {
      "byteLimit": 2048000,
      "rowLimit": 10000
     },
     "inputWidgets": {},
     "nuid": "a0afde74-9176-473e-8e68-b869775a5a21",
     "showTitle": false,
     "title": ""
    }
   },
   "outputs": [],
   "source": [
    "def prepare_data_for_forecast(funded_clean_clients_loans_dsdata):\n",
    "    ## Format date-YMD column\n",
    "    funded_clean_clients_loans_totals = groupby_for_loans_amount_and_volume(funded_clean_clients_loans_dsdata)\n",
    "    funded_clean_clients_loans_totals = create_ymd_cols(funded_clean_clients_loans_totals, _, year=False, month=False, day=False, ymd=True)\n",
    "\n",
    "    ## Subset the data we will apply forecast to - ONLY most recent year data\n",
    "    funded_clean_clients_loans_totals_recent_year = subset_data(funded_clean_clients_loans_totals, only_funded_loans=False, only_clean_clients=False, most_recent_year_data=True)\n",
    "    # Subset to only colmns we care about #TODO: verify desired output is NOT full df\n",
    "    funded_clean_clients_loans_totals_recent_year = funded_clean_clients_loans_totals_recent_year[['YMD', 'Clientkey','TotalLoanAmount_my', 'LoanVolume_my']]\n",
    "\n",
    "    df_to_forecast = funded_clean_clients_loans_totals_recent_year.groupby('Clientkey').apply(calculate_cumulative_quarters).reset_index(drop=True)\n",
    "\n",
    "    return df_to_forecast"
   ]
  },
  {
   "cell_type": "code",
   "execution_count": 0,
   "metadata": {
    "application/vnd.databricks.v1+cell": {
     "cellMetadata": {
      "byteLimit": 2048000,
      "rowLimit": 10000
     },
     "inputWidgets": {},
     "nuid": "d67ef91b-41f9-4035-87e7-528bfb84c0be",
     "showTitle": false,
     "title": ""
    }
   },
   "outputs": [],
   "source": [
    "data_to_forecast = prepare_data_for_forecast(funded_clean_clients_loans_dsdata)"
   ]
  },
  {
   "cell_type": "code",
   "execution_count": 0,
   "metadata": {
    "application/vnd.databricks.v1+cell": {
     "cellMetadata": {
      "byteLimit": 2048000,
      "rowLimit": 10000
     },
     "inputWidgets": {},
     "nuid": "64483f95-91b9-4cf9-8afb-5227edc0bc16",
     "showTitle": false,
     "title": ""
    }
   },
   "outputs": [
    {
     "output_type": "display_data",
     "data": {
      "text/html": [
       "<style scoped>\n",
       "  .table-result-container {\n",
       "    max-height: 300px;\n",
       "    overflow: auto;\n",
       "  }\n",
       "  table, th, td {\n",
       "    border: 1px solid black;\n",
       "    border-collapse: collapse;\n",
       "  }\n",
       "  th, td {\n",
       "    padding: 5px;\n",
       "  }\n",
       "  th {\n",
       "    text-align: left;\n",
       "  }\n",
       "</style><div class='table-result-container'><table class='table-result'><thead style='background-color: white'><tr><th>YMD</th><th>Clientkey</th><th>TotalLoanAmount_my</th><th>LoanVolume_my</th><th>LoanVolume_my_Q</th><th>TotalLoanAmount_my_Q</th></tr></thead><tbody><tr><td>2023-01-01T00:00:00Z</td><td>168</td><td>1.67030221E8</td><td>582</td><td>582</td><td>1.67030221E8</td></tr><tr><td>2023-02-01T00:00:00Z</td><td>168</td><td>1.94130605E8</td><td>683</td><td>1265</td><td>3.61160826E8</td></tr><tr><td>2023-03-01T00:00:00Z</td><td>168</td><td>2.34539107E8</td><td>810</td><td>2075</td><td>5.95699933E8</td></tr><tr><td>2023-04-01T00:00:00Z</td><td>168</td><td>2.0324397E8</td><td>703</td><td>703</td><td>2.0324397E8</td></tr><tr><td>2023-05-01T00:00:00Z</td><td>168</td><td>2.17563425E8</td><td>770</td><td>1473</td><td>4.20807395E8</td></tr><tr><td>2023-06-01T00:00:00Z</td><td>168</td><td>2.11710413E8</td><td>740</td><td>2213</td><td>6.32517808E8</td></tr><tr><td>2023-07-01T00:00:00Z</td><td>168</td><td>1.90024496E8</td><td>672</td><td>672</td><td>1.90024496E8</td></tr><tr><td>2023-08-01T00:00:00Z</td><td>168</td><td>1.7758252E8</td><td>647</td><td>1319</td><td>3.67607016E8</td></tr><tr><td>2023-09-01T00:00:00Z</td><td>168</td><td>1.42814723E8</td><td>532</td><td>1851</td><td>5.10421739E8</td></tr><tr><td>2023-10-01T00:00:00Z</td><td>168</td><td>1.12241659E8</td><td>410</td><td>410</td><td>1.12241659E8</td></tr><tr><td>2023-11-01T00:00:00Z</td><td>168</td><td>4.7948451E7</td><td>181</td><td>591</td><td>1.6019011E8</td></tr><tr><td>2023-01-01T00:00:00Z</td><td>192</td><td>4.9668368E7</td><td>152</td><td>152</td><td>4.9668368E7</td></tr><tr><td>2023-02-01T00:00:00Z</td><td>192</td><td>5.0147477E7</td><td>131</td><td>283</td><td>9.9815845E7</td></tr><tr><td>2023-03-01T00:00:00Z</td><td>192</td><td>5.9356875E7</td><td>166</td><td>449</td><td>1.5917272E8</td></tr><tr><td>2023-04-01T00:00:00Z</td><td>192</td><td>6.7839638E7</td><td>187</td><td>187</td><td>6.7839638E7</td></tr><tr><td>2023-05-01T00:00:00Z</td><td>192</td><td>6.9338303E7</td><td>183</td><td>370</td><td>1.37177941E8</td></tr><tr><td>2023-06-01T00:00:00Z</td><td>192</td><td>6.1259068E7</td><td>159</td><td>529</td><td>1.98437009E8</td></tr><tr><td>2023-07-01T00:00:00Z</td><td>192</td><td>6.4692412E7</td><td>180</td><td>180</td><td>6.4692412E7</td></tr><tr><td>2023-08-01T00:00:00Z</td><td>192</td><td>6.3534606E7</td><td>181</td><td>361</td><td>1.28227018E8</td></tr><tr><td>2023-09-01T00:00:00Z</td><td>192</td><td>6.54592264E7</td><td>188</td><td>549</td><td>1.936862444E8</td></tr><tr><td>2023-10-01T00:00:00Z</td><td>192</td><td>5.404091616E7</td><td>145</td><td>145</td><td>5.404091616E7</td></tr><tr><td>2023-11-01T00:00:00Z</td><td>192</td><td>2.1244065E7</td><td>61</td><td>206</td><td>7.528498116E7</td></tr><tr><td>2023-01-01T00:00:00Z</td><td>213</td><td>5.0926707E7</td><td>158</td><td>158</td><td>5.0926707E7</td></tr><tr><td>2023-02-01T00:00:00Z</td><td>213</td><td>4.2776287E7</td><td>142</td><td>300</td><td>9.3702994E7</td></tr><tr><td>2023-03-01T00:00:00Z</td><td>213</td><td>5.1541003E7</td><td>170</td><td>470</td><td>1.45243997E8</td></tr><tr><td>2023-04-01T00:00:00Z</td><td>213</td><td>5.9974037E7</td><td>193</td><td>193</td><td>5.9974037E7</td></tr><tr><td>2023-05-01T00:00:00Z</td><td>213</td><td>6.2520315E7</td><td>203</td><td>396</td><td>1.22494352E8</td></tr><tr><td>2023-06-01T00:00:00Z</td><td>213</td><td>5.903149E7</td><td>187</td><td>583</td><td>1.81525842E8</td></tr><tr><td>2023-07-01T00:00:00Z</td><td>213</td><td>6.323701E7</td><td>201</td><td>201</td><td>6.323701E7</td></tr><tr><td>2023-08-01T00:00:00Z</td><td>213</td><td>5.4396532E7</td><td>171</td><td>372</td><td>1.17633542E8</td></tr><tr><td>2023-09-01T00:00:00Z</td><td>213</td><td>3.7956443E7</td><td>132</td><td>504</td><td>1.55589985E8</td></tr><tr><td>2023-10-01T00:00:00Z</td><td>213</td><td>3.7021464E7</td><td>141</td><td>141</td><td>3.7021464E7</td></tr><tr><td>2023-11-01T00:00:00Z</td><td>213</td><td>1.0482755E7</td><td>39</td><td>180</td><td>4.7504219E7</td></tr><tr><td>2023-01-01T00:00:00Z</td><td>218</td><td>1.46043358E8</td><td>479</td><td>479</td><td>1.46043358E8</td></tr><tr><td>2023-02-01T00:00:00Z</td><td>218</td><td>1.37021707E8</td><td>471</td><td>950</td><td>2.83065065E8</td></tr><tr><td>2023-03-01T00:00:00Z</td><td>218</td><td>1.94132263E8</td><td>650</td><td>1600</td><td>4.77197328E8</td></tr><tr><td>2023-04-01T00:00:00Z</td><td>218</td><td>1.73288454E8</td><td>599</td><td>599</td><td>1.73288454E8</td></tr><tr><td>2023-05-01T00:00:00Z</td><td>218</td><td>2.2003216E8</td><td>739</td><td>1338</td><td>3.93320614E8</td></tr><tr><td>2023-06-01T00:00:00Z</td><td>218</td><td>1.98737229E8</td><td>649</td><td>1987</td><td>5.92057843E8</td></tr><tr><td>2023-07-01T00:00:00Z</td><td>218</td><td>1.57944624E8</td><td>561</td><td>561</td><td>1.57944624E8</td></tr><tr><td>2023-08-01T00:00:00Z</td><td>218</td><td>1.64130693E8</td><td>570</td><td>1131</td><td>3.22075317E8</td></tr><tr><td>2023-09-01T00:00:00Z</td><td>218</td><td>1.21664562E8</td><td>440</td><td>1571</td><td>4.43739879E8</td></tr><tr><td>2023-10-01T00:00:00Z</td><td>218</td><td>1.23965099E8</td><td>424</td><td>424</td><td>1.23965099E8</td></tr><tr><td>2023-11-01T00:00:00Z</td><td>218</td><td>5.2520577E7</td><td>195</td><td>619</td><td>1.76485676E8</td></tr><tr><td>2023-01-01T00:00:00Z</td><td>223</td><td>1.43970504E8</td><td>464</td><td>464</td><td>1.43970504E8</td></tr><tr><td>2023-02-01T00:00:00Z</td><td>223</td><td>1.78162964E8</td><td>560</td><td>1024</td><td>3.22133468E8</td></tr><tr><td>2023-03-01T00:00:00Z</td><td>223</td><td>2.12157909E8</td><td>681</td><td>1705</td><td>5.34291377E8</td></tr><tr><td>2023-04-01T00:00:00Z</td><td>223</td><td>1.95477401E8</td><td>627</td><td>627</td><td>1.95477401E8</td></tr><tr><td>2023-05-01T00:00:00Z</td><td>223</td><td>1.97094919E8</td><td>638</td><td>1265</td><td>3.9257232E8</td></tr><tr><td>2023-06-01T00:00:00Z</td><td>223</td><td>1.97746626E8</td><td>647</td><td>1912</td><td>5.90318946E8</td></tr><tr><td>2023-07-01T00:00:00Z</td><td>223</td><td>1.84369669E8</td><td>610</td><td>610</td><td>1.84369669E8</td></tr><tr><td>2023-08-01T00:00:00Z</td><td>223</td><td>1.87230477E8</td><td>652</td><td>1262</td><td>3.71600146E8</td></tr><tr><td>2023-09-01T00:00:00Z</td><td>223</td><td>1.52881007E8</td><td>512</td><td>1774</td><td>5.24481153E8</td></tr><tr><td>2023-10-01T00:00:00Z</td><td>223</td><td>1.24610134E8</td><td>428</td><td>428</td><td>1.24610134E8</td></tr><tr><td>2023-11-01T00:00:00Z</td><td>223</td><td>5.0733184E7</td><td>177</td><td>605</td><td>1.75343318E8</td></tr><tr><td>2023-12-01T00:00:00Z</td><td>223</td><td>38045.0</td><td>2</td><td>607</td><td>1.75381363E8</td></tr><tr><td>2023-01-01T00:00:00Z</td><td>245</td><td>2.7239579E7</td><td>104</td><td>104</td><td>2.7239579E7</td></tr><tr><td>2023-02-01T00:00:00Z</td><td>245</td><td>3.242294E7</td><td>133</td><td>237</td><td>5.9662519E7</td></tr><tr><td>2023-03-01T00:00:00Z</td><td>245</td><td>4.5581226E7</td><td>166</td><td>403</td><td>1.05243745E8</td></tr><tr><td>2023-04-01T00:00:00Z</td><td>245</td><td>3.480848E7</td><td>140</td><td>140</td><td>3.480848E7</td></tr><tr><td>2023-05-01T00:00:00Z</td><td>245</td><td>4.6072892E7</td><td>159</td><td>299</td><td>8.0881372E7</td></tr><tr><td>2023-06-01T00:00:00Z</td><td>245</td><td>4.1785678E7</td><td>163</td><td>462</td><td>1.2266705E8</td></tr><tr><td>2023-07-01T00:00:00Z</td><td>245</td><td>4.0997826E7</td><td>147</td><td>147</td><td>4.0997826E7</td></tr><tr><td>2023-08-01T00:00:00Z</td><td>245</td><td>3.5075734E7</td><td>128</td><td>275</td><td>7.607356E7</td></tr><tr><td>2023-09-01T00:00:00Z</td><td>245</td><td>3.1724144E7</td><td>115</td><td>390</td><td>1.07797704E8</td></tr><tr><td>2023-10-01T00:00:00Z</td><td>245</td><td>2.9379941E7</td><td>104</td><td>104</td><td>2.9379941E7</td></tr><tr><td>2023-11-01T00:00:00Z</td><td>245</td><td>8384020.0</td><td>36</td><td>140</td><td>3.7763961E7</td></tr><tr><td>2023-12-01T00:00:00Z</td><td>245</td><td>245217.0</td><td>1</td><td>141</td><td>3.8009178E7</td></tr><tr><td>2023-01-01T00:00:00Z</td><td>252</td><td>2.0862236E7</td><td>69</td><td>69</td><td>2.0862236E7</td></tr><tr><td>2023-02-01T00:00:00Z</td><td>252</td><td>1.6812802E7</td><td>62</td><td>131</td><td>3.7675038E7</td></tr><tr><td>2023-03-01T00:00:00Z</td><td>252</td><td>2.2624877E7</td><td>81</td><td>212</td><td>6.0299915E7</td></tr><tr><td>2023-04-01T00:00:00Z</td><td>252</td><td>2.4242014E7</td><td>78</td><td>78</td><td>2.4242014E7</td></tr><tr><td>2023-05-01T00:00:00Z</td><td>252</td><td>2.2385745E7</td><td>80</td><td>158</td><td>4.6627759E7</td></tr><tr><td>2023-06-01T00:00:00Z</td><td>252</td><td>1.9191133E7</td><td>64</td><td>222</td><td>6.5818892E7</td></tr><tr><td>2023-07-01T00:00:00Z</td><td>252</td><td>2.1938532E7</td><td>77</td><td>77</td><td>2.1938532E7</td></tr><tr><td>2023-08-01T00:00:00Z</td><td>252</td><td>2.5444832E7</td><td>78</td><td>155</td><td>4.7383364E7</td></tr><tr><td>2023-09-01T00:00:00Z</td><td>252</td><td>1.5654676E7</td><td>49</td><td>204</td><td>6.303804E7</td></tr><tr><td>2023-10-01T00:00:00Z</td><td>252</td><td>1.7631926E7</td><td>61</td><td>61</td><td>1.7631926E7</td></tr><tr><td>2023-11-01T00:00:00Z</td><td>252</td><td>4698779.0</td><td>17</td><td>78</td><td>2.2330705E7</td></tr><tr><td>2023-01-01T00:00:00Z</td><td>255</td><td>8.5433799E7</td><td>314</td><td>314</td><td>8.5433799E7</td></tr><tr><td>2023-02-01T00:00:00Z</td><td>255</td><td>8.615793944E7</td><td>306</td><td>620</td><td>1.7159173844E8</td></tr><tr><td>2023-03-01T00:00:00Z</td><td>255</td><td>9.686747393E7</td><td>361</td><td>981</td><td>2.6845921237E8</td></tr><tr><td>2023-04-01T00:00:00Z</td><td>255</td><td>9.4168657E7</td><td>339</td><td>339</td><td>9.4168657E7</td></tr><tr><td>2023-05-01T00:00:00Z</td><td>255</td><td>1.01725751E8</td><td>369</td><td>708</td><td>1.95894408E8</td></tr><tr><td>2023-06-01T00:00:00Z</td><td>255</td><td>1.0122191813E8</td><td>369</td><td>1077</td><td>2.9711632613E8</td></tr><tr><td>2023-07-01T00:00:00Z</td><td>255</td><td>7.9196013E7</td><td>288</td><td>288</td><td>7.9196013E7</td></tr><tr><td>2023-08-01T00:00:00Z</td><td>255</td><td>9.79355689E7</td><td>363</td><td>651</td><td>1.771315819E8</td></tr><tr><td>2023-09-01T00:00:00Z</td><td>255</td><td>9.087485178E7</td><td>296</td><td>947</td><td>2.6800643368E8</td></tr><tr><td>2023-10-01T00:00:00Z</td><td>255</td><td>2.1127579E7</td><td>72</td><td>72</td><td>2.1127579E7</td></tr><tr><td>2023-11-01T00:00:00Z</td><td>255</td><td>314000.0</td><td>1</td><td>73</td><td>2.1441579E7</td></tr><tr><td>2023-12-01T00:00:00Z</td><td>255</td><td>592785.0</td><td>1</td><td>74</td><td>2.2034364E7</td></tr><tr><td>2023-01-01T00:00:00Z</td><td>257</td><td>3.212612E7</td><td>163</td><td>163</td><td>3.212612E7</td></tr><tr><td>2023-02-01T00:00:00Z</td><td>257</td><td>3.0533856E7</td><td>147</td><td>310</td><td>6.2659976E7</td></tr><tr><td>2023-03-01T00:00:00Z</td><td>257</td><td>3.9227511E7</td><td>191</td><td>501</td><td>1.01887487E8</td></tr><tr><td>2023-04-01T00:00:00Z</td><td>257</td><td>3.9323082E7</td><td>180</td><td>180</td><td>3.9323082E7</td></tr><tr><td>2023-05-01T00:00:00Z</td><td>257</td><td>4.1186395E7</td><td>183</td><td>363</td><td>8.0509477E7</td></tr><tr><td>2023-06-01T00:00:00Z</td><td>257</td><td>4.332658E7</td><td>209</td><td>572</td><td>1.23836057E8</td></tr><tr><td>2023-07-01T00:00:00Z</td><td>257</td><td>4.1814207E7</td><td>171</td><td>171</td><td>4.1814207E7</td></tr><tr><td>2023-08-01T00:00:00Z</td><td>257</td><td>4.2718387E7</td><td>183</td><td>354</td><td>8.4532594E7</td></tr><tr><td>2023-09-01T00:00:00Z</td><td>257</td><td>3.0057811E7</td><td>129</td><td>483</td><td>1.14590405E8</td></tr><tr><td>2023-10-01T00:00:00Z</td><td>257</td><td>7431709.0</td><td>39</td><td>39</td><td>7431709.0</td></tr><tr><td>2023-11-01T00:00:00Z</td><td>257</td><td>7790633.0</td><td>40</td><td>79</td><td>1.5222342E7</td></tr><tr><td>2023-12-01T00:00:00Z</td><td>257</td><td>149494.0</td><td>1</td><td>80</td><td>1.5371836E7</td></tr><tr><td>2023-01-01T00:00:00Z</td><td>258</td><td>1.5177413E7</td><td>41</td><td>41</td><td>1.5177413E7</td></tr><tr><td>2023-02-01T00:00:00Z</td><td>258</td><td>1.4623889E7</td><td>33</td><td>74</td><td>2.9801302E7</td></tr><tr><td>2023-03-01T00:00:00Z</td><td>258</td><td>2.0609082E7</td><td>59</td><td>133</td><td>5.0410384E7</td></tr><tr><td>2023-04-01T00:00:00Z</td><td>258</td><td>2.5335663E7</td><td>65</td><td>65</td><td>2.5335663E7</td></tr><tr><td>2023-05-01T00:00:00Z</td><td>258</td><td>2.7454004E7</td><td>71</td><td>136</td><td>5.2789667E7</td></tr><tr><td>2023-06-01T00:00:00Z</td><td>258</td><td>3.2185825E7</td><td>74</td><td>210</td><td>8.4975492E7</td></tr><tr><td>2023-07-01T00:00:00Z</td><td>258</td><td>3.1540297E7</td><td>77</td><td>77</td><td>3.1540297E7</td></tr><tr><td>2023-08-01T00:00:00Z</td><td>258</td><td>2.7038221E7</td><td>64</td><td>141</td><td>5.8578518E7</td></tr><tr><td>2023-09-01T00:00:00Z</td><td>258</td><td>2.6580449E7</td><td>67</td><td>208</td><td>8.5158967E7</td></tr><tr><td>2023-10-01T00:00:00Z</td><td>258</td><td>1.8540573E7</td><td>46</td><td>46</td><td>1.8540573E7</td></tr><tr><td>2023-11-01T00:00:00Z</td><td>258</td><td>7894046.0</td><td>19</td><td>65</td><td>2.6434619E7</td></tr></tbody></table></div>"
      ]
     },
     "metadata": {
      "application/vnd.databricks.v1+output": {
       "addedWidgets": {},
       "aggData": [],
       "aggError": "",
       "aggOverflow": false,
       "aggSchema": [],
       "aggSeriesLimitReached": false,
       "aggType": "",
       "arguments": {},
       "columnCustomDisplayInfos": {},
       "data": [
        [
         "2023-01-01T00:00:00Z",
         168,
         1.67030221E8,
         582,
         582,
         1.67030221E8
        ],
        [
         "2023-02-01T00:00:00Z",
         168,
         1.94130605E8,
         683,
         1265,
         3.61160826E8
        ],
        [
         "2023-03-01T00:00:00Z",
         168,
         2.34539107E8,
         810,
         2075,
         5.95699933E8
        ],
        [
         "2023-04-01T00:00:00Z",
         168,
         2.0324397E8,
         703,
         703,
         2.0324397E8
        ],
        [
         "2023-05-01T00:00:00Z",
         168,
         2.17563425E8,
         770,
         1473,
         4.20807395E8
        ],
        [
         "2023-06-01T00:00:00Z",
         168,
         2.11710413E8,
         740,
         2213,
         6.32517808E8
        ],
        [
         "2023-07-01T00:00:00Z",
         168,
         1.90024496E8,
         672,
         672,
         1.90024496E8
        ],
        [
         "2023-08-01T00:00:00Z",
         168,
         1.7758252E8,
         647,
         1319,
         3.67607016E8
        ],
        [
         "2023-09-01T00:00:00Z",
         168,
         1.42814723E8,
         532,
         1851,
         5.10421739E8
        ],
        [
         "2023-10-01T00:00:00Z",
         168,
         1.12241659E8,
         410,
         410,
         1.12241659E8
        ],
        [
         "2023-11-01T00:00:00Z",
         168,
         4.7948451E7,
         181,
         591,
         1.6019011E8
        ],
        [
         "2023-01-01T00:00:00Z",
         192,
         4.9668368E7,
         152,
         152,
         4.9668368E7
        ],
        [
         "2023-02-01T00:00:00Z",
         192,
         5.0147477E7,
         131,
         283,
         9.9815845E7
        ],
        [
         "2023-03-01T00:00:00Z",
         192,
         5.9356875E7,
         166,
         449,
         1.5917272E8
        ],
        [
         "2023-04-01T00:00:00Z",
         192,
         6.7839638E7,
         187,
         187,
         6.7839638E7
        ],
        [
         "2023-05-01T00:00:00Z",
         192,
         6.9338303E7,
         183,
         370,
         1.37177941E8
        ],
        [
         "2023-06-01T00:00:00Z",
         192,
         6.1259068E7,
         159,
         529,
         1.98437009E8
        ],
        [
         "2023-07-01T00:00:00Z",
         192,
         6.4692412E7,
         180,
         180,
         6.4692412E7
        ],
        [
         "2023-08-01T00:00:00Z",
         192,
         6.3534606E7,
         181,
         361,
         1.28227018E8
        ],
        [
         "2023-09-01T00:00:00Z",
         192,
         6.54592264E7,
         188,
         549,
         1.936862444E8
        ],
        [
         "2023-10-01T00:00:00Z",
         192,
         5.404091616E7,
         145,
         145,
         5.404091616E7
        ],
        [
         "2023-11-01T00:00:00Z",
         192,
         2.1244065E7,
         61,
         206,
         7.528498116E7
        ],
        [
         "2023-01-01T00:00:00Z",
         213,
         5.0926707E7,
         158,
         158,
         5.0926707E7
        ],
        [
         "2023-02-01T00:00:00Z",
         213,
         4.2776287E7,
         142,
         300,
         9.3702994E7
        ],
        [
         "2023-03-01T00:00:00Z",
         213,
         5.1541003E7,
         170,
         470,
         1.45243997E8
        ],
        [
         "2023-04-01T00:00:00Z",
         213,
         5.9974037E7,
         193,
         193,
         5.9974037E7
        ],
        [
         "2023-05-01T00:00:00Z",
         213,
         6.2520315E7,
         203,
         396,
         1.22494352E8
        ],
        [
         "2023-06-01T00:00:00Z",
         213,
         5.903149E7,
         187,
         583,
         1.81525842E8
        ],
        [
         "2023-07-01T00:00:00Z",
         213,
         6.323701E7,
         201,
         201,
         6.323701E7
        ],
        [
         "2023-08-01T00:00:00Z",
         213,
         5.4396532E7,
         171,
         372,
         1.17633542E8
        ],
        [
         "2023-09-01T00:00:00Z",
         213,
         3.7956443E7,
         132,
         504,
         1.55589985E8
        ],
        [
         "2023-10-01T00:00:00Z",
         213,
         3.7021464E7,
         141,
         141,
         3.7021464E7
        ],
        [
         "2023-11-01T00:00:00Z",
         213,
         1.0482755E7,
         39,
         180,
         4.7504219E7
        ],
        [
         "2023-01-01T00:00:00Z",
         218,
         1.46043358E8,
         479,
         479,
         1.46043358E8
        ],
        [
         "2023-02-01T00:00:00Z",
         218,
         1.37021707E8,
         471,
         950,
         2.83065065E8
        ],
        [
         "2023-03-01T00:00:00Z",
         218,
         1.94132263E8,
         650,
         1600,
         4.77197328E8
        ],
        [
         "2023-04-01T00:00:00Z",
         218,
         1.73288454E8,
         599,
         599,
         1.73288454E8
        ],
        [
         "2023-05-01T00:00:00Z",
         218,
         2.2003216E8,
         739,
         1338,
         3.93320614E8
        ],
        [
         "2023-06-01T00:00:00Z",
         218,
         1.98737229E8,
         649,
         1987,
         5.92057843E8
        ],
        [
         "2023-07-01T00:00:00Z",
         218,
         1.57944624E8,
         561,
         561,
         1.57944624E8
        ],
        [
         "2023-08-01T00:00:00Z",
         218,
         1.64130693E8,
         570,
         1131,
         3.22075317E8
        ],
        [
         "2023-09-01T00:00:00Z",
         218,
         1.21664562E8,
         440,
         1571,
         4.43739879E8
        ],
        [
         "2023-10-01T00:00:00Z",
         218,
         1.23965099E8,
         424,
         424,
         1.23965099E8
        ],
        [
         "2023-11-01T00:00:00Z",
         218,
         5.2520577E7,
         195,
         619,
         1.76485676E8
        ],
        [
         "2023-01-01T00:00:00Z",
         223,
         1.43970504E8,
         464,
         464,
         1.43970504E8
        ],
        [
         "2023-02-01T00:00:00Z",
         223,
         1.78162964E8,
         560,
         1024,
         3.22133468E8
        ],
        [
         "2023-03-01T00:00:00Z",
         223,
         2.12157909E8,
         681,
         1705,
         5.34291377E8
        ],
        [
         "2023-04-01T00:00:00Z",
         223,
         1.95477401E8,
         627,
         627,
         1.95477401E8
        ],
        [
         "2023-05-01T00:00:00Z",
         223,
         1.97094919E8,
         638,
         1265,
         3.9257232E8
        ],
        [
         "2023-06-01T00:00:00Z",
         223,
         1.97746626E8,
         647,
         1912,
         5.90318946E8
        ],
        [
         "2023-07-01T00:00:00Z",
         223,
         1.84369669E8,
         610,
         610,
         1.84369669E8
        ],
        [
         "2023-08-01T00:00:00Z",
         223,
         1.87230477E8,
         652,
         1262,
         3.71600146E8
        ],
        [
         "2023-09-01T00:00:00Z",
         223,
         1.52881007E8,
         512,
         1774,
         5.24481153E8
        ],
        [
         "2023-10-01T00:00:00Z",
         223,
         1.24610134E8,
         428,
         428,
         1.24610134E8
        ],
        [
         "2023-11-01T00:00:00Z",
         223,
         5.0733184E7,
         177,
         605,
         1.75343318E8
        ],
        [
         "2023-12-01T00:00:00Z",
         223,
         38045.0,
         2,
         607,
         1.75381363E8
        ],
        [
         "2023-01-01T00:00:00Z",
         245,
         2.7239579E7,
         104,
         104,
         2.7239579E7
        ],
        [
         "2023-02-01T00:00:00Z",
         245,
         3.242294E7,
         133,
         237,
         5.9662519E7
        ],
        [
         "2023-03-01T00:00:00Z",
         245,
         4.5581226E7,
         166,
         403,
         1.05243745E8
        ],
        [
         "2023-04-01T00:00:00Z",
         245,
         3.480848E7,
         140,
         140,
         3.480848E7
        ],
        [
         "2023-05-01T00:00:00Z",
         245,
         4.6072892E7,
         159,
         299,
         8.0881372E7
        ],
        [
         "2023-06-01T00:00:00Z",
         245,
         4.1785678E7,
         163,
         462,
         1.2266705E8
        ],
        [
         "2023-07-01T00:00:00Z",
         245,
         4.0997826E7,
         147,
         147,
         4.0997826E7
        ],
        [
         "2023-08-01T00:00:00Z",
         245,
         3.5075734E7,
         128,
         275,
         7.607356E7
        ],
        [
         "2023-09-01T00:00:00Z",
         245,
         3.1724144E7,
         115,
         390,
         1.07797704E8
        ],
        [
         "2023-10-01T00:00:00Z",
         245,
         2.9379941E7,
         104,
         104,
         2.9379941E7
        ],
        [
         "2023-11-01T00:00:00Z",
         245,
         8384020.0,
         36,
         140,
         3.7763961E7
        ],
        [
         "2023-12-01T00:00:00Z",
         245,
         245217.0,
         1,
         141,
         3.8009178E7
        ],
        [
         "2023-01-01T00:00:00Z",
         252,
         2.0862236E7,
         69,
         69,
         2.0862236E7
        ],
        [
         "2023-02-01T00:00:00Z",
         252,
         1.6812802E7,
         62,
         131,
         3.7675038E7
        ],
        [
         "2023-03-01T00:00:00Z",
         252,
         2.2624877E7,
         81,
         212,
         6.0299915E7
        ],
        [
         "2023-04-01T00:00:00Z",
         252,
         2.4242014E7,
         78,
         78,
         2.4242014E7
        ],
        [
         "2023-05-01T00:00:00Z",
         252,
         2.2385745E7,
         80,
         158,
         4.6627759E7
        ],
        [
         "2023-06-01T00:00:00Z",
         252,
         1.9191133E7,
         64,
         222,
         6.5818892E7
        ],
        [
         "2023-07-01T00:00:00Z",
         252,
         2.1938532E7,
         77,
         77,
         2.1938532E7
        ],
        [
         "2023-08-01T00:00:00Z",
         252,
         2.5444832E7,
         78,
         155,
         4.7383364E7
        ],
        [
         "2023-09-01T00:00:00Z",
         252,
         1.5654676E7,
         49,
         204,
         6.303804E7
        ],
        [
         "2023-10-01T00:00:00Z",
         252,
         1.7631926E7,
         61,
         61,
         1.7631926E7
        ],
        [
         "2023-11-01T00:00:00Z",
         252,
         4698779.0,
         17,
         78,
         2.2330705E7
        ],
        [
         "2023-01-01T00:00:00Z",
         255,
         8.5433799E7,
         314,
         314,
         8.5433799E7
        ],
        [
         "2023-02-01T00:00:00Z",
         255,
         8.615793944E7,
         306,
         620,
         1.7159173844E8
        ],
        [
         "2023-03-01T00:00:00Z",
         255,
         9.686747393E7,
         361,
         981,
         2.6845921237E8
        ],
        [
         "2023-04-01T00:00:00Z",
         255,
         9.4168657E7,
         339,
         339,
         9.4168657E7
        ],
        [
         "2023-05-01T00:00:00Z",
         255,
         1.01725751E8,
         369,
         708,
         1.95894408E8
        ],
        [
         "2023-06-01T00:00:00Z",
         255,
         1.0122191813E8,
         369,
         1077,
         2.9711632613E8
        ],
        [
         "2023-07-01T00:00:00Z",
         255,
         7.9196013E7,
         288,
         288,
         7.9196013E7
        ],
        [
         "2023-08-01T00:00:00Z",
         255,
         9.79355689E7,
         363,
         651,
         1.771315819E8
        ],
        [
         "2023-09-01T00:00:00Z",
         255,
         9.087485178E7,
         296,
         947,
         2.6800643368E8
        ],
        [
         "2023-10-01T00:00:00Z",
         255,
         2.1127579E7,
         72,
         72,
         2.1127579E7
        ],
        [
         "2023-11-01T00:00:00Z",
         255,
         314000.0,
         1,
         73,
         2.1441579E7
        ],
        [
         "2023-12-01T00:00:00Z",
         255,
         592785.0,
         1,
         74,
         2.2034364E7
        ],
        [
         "2023-01-01T00:00:00Z",
         257,
         3.212612E7,
         163,
         163,
         3.212612E7
        ],
        [
         "2023-02-01T00:00:00Z",
         257,
         3.0533856E7,
         147,
         310,
         6.2659976E7
        ],
        [
         "2023-03-01T00:00:00Z",
         257,
         3.9227511E7,
         191,
         501,
         1.01887487E8
        ],
        [
         "2023-04-01T00:00:00Z",
         257,
         3.9323082E7,
         180,
         180,
         3.9323082E7
        ],
        [
         "2023-05-01T00:00:00Z",
         257,
         4.1186395E7,
         183,
         363,
         8.0509477E7
        ],
        [
         "2023-06-01T00:00:00Z",
         257,
         4.332658E7,
         209,
         572,
         1.23836057E8
        ],
        [
         "2023-07-01T00:00:00Z",
         257,
         4.1814207E7,
         171,
         171,
         4.1814207E7
        ],
        [
         "2023-08-01T00:00:00Z",
         257,
         4.2718387E7,
         183,
         354,
         8.4532594E7
        ],
        [
         "2023-09-01T00:00:00Z",
         257,
         3.0057811E7,
         129,
         483,
         1.14590405E8
        ],
        [
         "2023-10-01T00:00:00Z",
         257,
         7431709.0,
         39,
         39,
         7431709.0
        ],
        [
         "2023-11-01T00:00:00Z",
         257,
         7790633.0,
         40,
         79,
         1.5222342E7
        ],
        [
         "2023-12-01T00:00:00Z",
         257,
         149494.0,
         1,
         80,
         1.5371836E7
        ],
        [
         "2023-01-01T00:00:00Z",
         258,
         1.5177413E7,
         41,
         41,
         1.5177413E7
        ],
        [
         "2023-02-01T00:00:00Z",
         258,
         1.4623889E7,
         33,
         74,
         2.9801302E7
        ],
        [
         "2023-03-01T00:00:00Z",
         258,
         2.0609082E7,
         59,
         133,
         5.0410384E7
        ],
        [
         "2023-04-01T00:00:00Z",
         258,
         2.5335663E7,
         65,
         65,
         2.5335663E7
        ],
        [
         "2023-05-01T00:00:00Z",
         258,
         2.7454004E7,
         71,
         136,
         5.2789667E7
        ],
        [
         "2023-06-01T00:00:00Z",
         258,
         3.2185825E7,
         74,
         210,
         8.4975492E7
        ],
        [
         "2023-07-01T00:00:00Z",
         258,
         3.1540297E7,
         77,
         77,
         3.1540297E7
        ],
        [
         "2023-08-01T00:00:00Z",
         258,
         2.7038221E7,
         64,
         141,
         5.8578518E7
        ],
        [
         "2023-09-01T00:00:00Z",
         258,
         2.6580449E7,
         67,
         208,
         8.5158967E7
        ],
        [
         "2023-10-01T00:00:00Z",
         258,
         1.8540573E7,
         46,
         46,
         1.8540573E7
        ],
        [
         "2023-11-01T00:00:00Z",
         258,
         7894046.0,
         19,
         65,
         2.6434619E7
        ]
       ],
       "datasetInfos": [],
       "dbfsResultPath": null,
       "isJsonSchema": true,
       "metadata": {},
       "overflow": false,
       "plotOptions": {
        "customPlotOptions": {},
        "displayType": "table",
        "pivotAggregation": null,
        "pivotColumns": null,
        "xColumns": null,
        "yColumns": null
       },
       "removedWidgets": [],
       "schema": [
        {
         "metadata": "{}",
         "name": "YMD",
         "type": "\"timestamp\""
        },
        {
         "metadata": "{}",
         "name": "Clientkey",
         "type": "\"long\""
        },
        {
         "metadata": "{}",
         "name": "TotalLoanAmount_my",
         "type": "\"double\""
        },
        {
         "metadata": "{}",
         "name": "LoanVolume_my",
         "type": "\"long\""
        },
        {
         "metadata": "{}",
         "name": "LoanVolume_my_Q",
         "type": "\"long\""
        },
        {
         "metadata": "{}",
         "name": "TotalLoanAmount_my_Q",
         "type": "\"double\""
        }
       ],
       "type": "table"
      }
     },
     "output_type": "display_data"
    }
   ],
   "source": [
    "display(data_to_forecast)"
   ]
  },
  {
   "cell_type": "code",
   "execution_count": 0,
   "metadata": {
    "application/vnd.databricks.v1+cell": {
     "cellMetadata": {
      "byteLimit": 2048000,
      "rowLimit": 10000
     },
     "inputWidgets": {},
     "nuid": "f348d51f-05dd-4b0e-9294-a21af54fdb1a",
     "showTitle": false,
     "title": ""
    }
   },
   "outputs": [],
   "source": [
    "def apply_mba_forecast(df_to_forecast, MBA_data, last_desired_forecast_date):\n",
    "    \n",
    "    ## Filter MBA forecast data for the relevant time period\n",
    "    MBA_forecast = MBA_data[MBA_data['YMD'] >= pd.to_datetime(last_desired_forecast_date)] #'2023-09-01'\n",
    "\n",
    "    # Initialize empty DataFrames to store forecast results\n",
    "    forecasted_dataframes = []\n",
    "\n",
    "    # Group by Clientkey and apply forecast for each group\n",
    "    for clientkey, group in df_to_forecast.groupby('Clientkey'):\n",
    "        # Merge the MBA forecast data with the loan totals data on 'YMD' column\n",
    "        merged_data = pd.merge(group, MBA_forecast, on='YMD', how='right')\n",
    "        merged_data['Clientkey'] = merged_data['Clientkey'].iloc[0]\n",
    "        \n",
    "        # Initialize LoanVolume Forecast column\n",
    "        merged_data['LoanVolume_Forecast'] = 0\n",
    "        # Set initial value based on Q data\n",
    "        merged_data['LoanVolume_Forecast'].iloc[0] = merged_data['LoanVolume_my_Q'].iloc[0]\n",
    "\n",
    "        # Apply LoanVolume Forecast from MBA\n",
    "        for i in range(1, len(merged_data)):\n",
    "            merged_data['LoanVolume_Forecast'].iloc[i] = merged_data['LoanVolume_Forecast'].iloc[i-1] * (1 + merged_data['NormalizedForecast'].iloc[i]/100)\n",
    "\n",
    "        # Initialize LoanAmount Forecast column\n",
    "        merged_data['LoanAmount_Forecast'] = 0\n",
    "        # Set initial value based on Q data\n",
    "        merged_data['LoanAmount_Forecast'].iloc[0] = merged_data['TotalLoanAmount_my_Q'].iloc[0]\n",
    "\n",
    "        # Apply LoanAmount Forecast from MBA\n",
    "        for i in range(1, len(merged_data)):\n",
    "            if not pd.isnull(merged_data['LoanAmount_Forecast'].iloc[i-1]):\n",
    "                merged_data['LoanAmount_Forecast'].iloc[i] = merged_data['LoanAmount_Forecast'].iloc[i-1] * (1 + merged_data['NormalizedForecast'].iloc[i]/100)\n",
    "\n",
    "        # # Translate into monthly data \n",
    "        merged_data['LoanAmountForecast_m'] = np.round(merged_data['LoanAmount_Forecast'] / 3, 4)\n",
    "        merged_data['LoanVolumeForecast_m'] = np.round(merged_data['LoanVolume_Forecast'] / 3, 4)\n",
    "        \n",
    "        # Append the forecasted dataframe for the current Clientkey to the list\n",
    "        forecasted_dataframes.append(merged_data)\n",
    "    \n",
    "    # Concatenate all forecasted dataframes\n",
    "    forecasted_data = pd.concat(forecasted_dataframes)\n",
    "    \n",
    "    return forecasted_data\n"
   ]
  },
  {
   "cell_type": "code",
   "execution_count": 0,
   "metadata": {
    "application/vnd.databricks.v1+cell": {
     "cellMetadata": {
      "byteLimit": 2048000,
      "rowLimit": 10000
     },
     "inputWidgets": {},
     "nuid": "0cc8cf87-7d51-4eca-b0ad-86af6d967ac4",
     "showTitle": false,
     "title": ""
    }
   },
   "outputs": [
    {
     "output_type": "execute_result",
     "data": {
      "text/html": [
       "<div>\n",
       "<style scoped>\n",
       "    .dataframe tbody tr th:only-of-type {\n",
       "        vertical-align: middle;\n",
       "    }\n",
       "\n",
       "    .dataframe tbody tr th {\n",
       "        vertical-align: top;\n",
       "    }\n",
       "\n",
       "    .dataframe thead th {\n",
       "        text-align: right;\n",
       "    }\n",
       "</style>\n",
       "<table border=\"1\" class=\"dataframe\">\n",
       "  <thead>\n",
       "    <tr style=\"text-align: right;\">\n",
       "      <th></th>\n",
       "      <th>YMD</th>\n",
       "      <th>Clientkey</th>\n",
       "      <th>TotalLoanAmount_my</th>\n",
       "      <th>LoanVolume_my</th>\n",
       "      <th>LoanVolume_my_Q</th>\n",
       "      <th>TotalLoanAmount_my_Q</th>\n",
       "      <th>Quarter</th>\n",
       "      <th>NormalizedForecast</th>\n",
       "      <th>LoanVolume_Forecast</th>\n",
       "      <th>LoanAmount_Forecast</th>\n",
       "      <th>LoanAmountForecast_m</th>\n",
       "      <th>LoanVolumeForecast_m</th>\n",
       "    </tr>\n",
       "  </thead>\n",
       "  <tbody>\n",
       "    <tr>\n",
       "      <th>0</th>\n",
       "      <td>2023-09-01</td>\n",
       "      <td>168.0</td>\n",
       "      <td>142814723.0</td>\n",
       "      <td>532.0</td>\n",
       "      <td>1851.0</td>\n",
       "      <td>510421739.0</td>\n",
       "      <td>Q3_23</td>\n",
       "      <td>-4.103672</td>\n",
       "      <td>1851.000000</td>\n",
       "      <td>5.104217e+08</td>\n",
       "      <td>1.701406e+08</td>\n",
       "      <td>617.0000</td>\n",
       "    </tr>\n",
       "    <tr>\n",
       "      <th>1</th>\n",
       "      <td>2023-12-01</td>\n",
       "      <td>168.0</td>\n",
       "      <td>NaN</td>\n",
       "      <td>NaN</td>\n",
       "      <td>NaN</td>\n",
       "      <td>NaN</td>\n",
       "      <td>Q4_23</td>\n",
       "      <td>-10.135135</td>\n",
       "      <td>1663.398649</td>\n",
       "      <td>4.586898e+08</td>\n",
       "      <td>1.528966e+08</td>\n",
       "      <td>554.4662</td>\n",
       "    </tr>\n",
       "    <tr>\n",
       "      <th>2</th>\n",
       "      <td>2024-03-01</td>\n",
       "      <td>168.0</td>\n",
       "      <td>NaN</td>\n",
       "      <td>NaN</td>\n",
       "      <td>NaN</td>\n",
       "      <td>NaN</td>\n",
       "      <td>Q1_24</td>\n",
       "      <td>5.764411</td>\n",
       "      <td>1759.283784</td>\n",
       "      <td>4.851306e+08</td>\n",
       "      <td>1.617102e+08</td>\n",
       "      <td>586.4279</td>\n",
       "    </tr>\n",
       "    <tr>\n",
       "      <th>3</th>\n",
       "      <td>2024-06-01</td>\n",
       "      <td>168.0</td>\n",
       "      <td>NaN</td>\n",
       "      <td>NaN</td>\n",
       "      <td>NaN</td>\n",
       "      <td>NaN</td>\n",
       "      <td>Q2_24</td>\n",
       "      <td>22.511848</td>\n",
       "      <td>2155.331081</td>\n",
       "      <td>5.943424e+08</td>\n",
       "      <td>1.981141e+08</td>\n",
       "      <td>718.4437</td>\n",
       "    </tr>\n",
       "    <tr>\n",
       "      <th>4</th>\n",
       "      <td>2024-09-01</td>\n",
       "      <td>168.0</td>\n",
       "      <td>NaN</td>\n",
       "      <td>NaN</td>\n",
       "      <td>NaN</td>\n",
       "      <td>NaN</td>\n",
       "      <td>Q3_24</td>\n",
       "      <td>5.029014</td>\n",
       "      <td>2263.722973</td>\n",
       "      <td>6.242320e+08</td>\n",
       "      <td>2.080773e+08</td>\n",
       "      <td>754.5743</td>\n",
       "    </tr>\n",
       "    <tr>\n",
       "      <th>5</th>\n",
       "      <td>2024-12-01</td>\n",
       "      <td>168.0</td>\n",
       "      <td>NaN</td>\n",
       "      <td>NaN</td>\n",
       "      <td>NaN</td>\n",
       "      <td>NaN</td>\n",
       "      <td>Q4_24</td>\n",
       "      <td>-4.419890</td>\n",
       "      <td>2163.668919</td>\n",
       "      <td>5.966416e+08</td>\n",
       "      <td>1.988805e+08</td>\n",
       "      <td>721.2230</td>\n",
       "    </tr>\n",
       "  </tbody>\n",
       "</table>\n",
       "</div>"
      ],
      "text/plain": [
       "         YMD  Clientkey  ...  LoanAmountForecast_m  LoanVolumeForecast_m\n",
       "0 2023-09-01      168.0  ...          1.701406e+08              617.0000\n",
       "1 2023-12-01      168.0  ...          1.528966e+08              554.4662\n",
       "2 2024-03-01      168.0  ...          1.617102e+08              586.4279\n",
       "3 2024-06-01      168.0  ...          1.981141e+08              718.4437\n",
       "4 2024-09-01      168.0  ...          2.080773e+08              754.5743\n",
       "5 2024-12-01      168.0  ...          1.988805e+08              721.2230\n",
       "\n",
       "[6 rows x 12 columns]"
      ]
     },
     "execution_count": 17,
     "metadata": {},
     "output_type": "execute_result"
    }
   ],
   "source": [
    "all_forecasted = apply_mba_forecast(data_to_forecast, MBA_forecast, '2023-09-01')\n",
    "all_forecasted[all_forecasted['Clientkey']==168]"
   ]
  },
  {
   "cell_type": "markdown",
   "metadata": {
    "application/vnd.databricks.v1+cell": {
     "cellMetadata": {
      "byteLimit": 2048000,
      "rowLimit": 10000
     },
     "inputWidgets": {},
     "nuid": "5b4b62a4-6d34-4be8-b46f-b56be3f39a50",
     "showTitle": false,
     "title": ""
    }
   },
   "source": [
    "## Loan Fallout \n",
    "- **V1**: \n",
    "    - Calculate fallout % for each of the desired Milestones\n",
    "    - Done for clean clients \n",
    "- **V2:** \n",
    "    - By **Loan Purpose/Loan Type/Interest Rates...**?\n",
    "    - **Separate Purchase and Refinance** for fallout\n",
    "- **Out of Scope**: How can we best leverage **Lock Date** and time spent locked/unlcoked for most meaningful/interpretable outputs...\n",
    "\n",
    "- Milestones we care about:\n",
    "    - Application (none)\n",
    "    - Submit to Processing (processor)\n",
    "    - Submit to Underwriting (UW)\n",
    "    - Final Approved/Clear to Close - interchangable (closer)\n",
    "\n",
    "- How can we safely assume, that once a loan makes it to a stage and no further, that it has indeed fallen-out?\n",
    "    - Logic will be provided to determine *inactive loans* (by Margie/David)...\n"
   ]
  },
  {
   "cell_type": "markdown",
   "metadata": {
    "application/vnd.databricks.v1+cell": {
     "cellMetadata": {
      "byteLimit": 2048000,
      "rowLimit": 10000
     },
     "inputWidgets": {},
     "nuid": "f1b196ed-87dc-4e86-a9a5-211bffcfcca0",
     "showTitle": false,
     "title": ""
    }
   },
   "source": [
    "**Analysis**:... \n",
    "- use **DSUniqueLoanRecord** - for clean milestone data \n",
    "  - **DO NOT use CurrentMilestone** column, but rather the columns with desired milestones instead...\n",
    "- **subset to clean clients** (ensure all have desired Milestones..) \n",
    "  - analysis on clients that do not have desired milstones...if any..? \n",
    "- **go further than 90days ago for fallout** (otherwise doesn't make sense)\n",
    "  - stop at september 23 (don't have enough to know)\n",
    "  - subset to 6-months: applicationdata > 01/01/23 < 07/01/23\n",
    "  - to start, I will **calculate fallouts for data > 2022**\n",
    "- **remove Purpose = 'C'** (Construction Loans take hella long...can't accuratly calculate fallout)\n",
    "\n",
    "- if Final Approval DNE = Clear to Close = Submitted to Closing (COALESC Final Approval + Clear to Close)\n",
    "- **verify**: *unique loan counts* is what we're intrested in -> Margie - yes:)\n",
    "  - **i.o.w. if we care about calculating how much work each role is getting, we should care about duplicates in LoanNumber?** -- ask David/Margie -> No, unique LoanNumber is what we want  \n",
    "- **globally or per FI** ...\n",
    "  - start latter then work backwards -> iff different across FIs then FI level.."
   ]
  },
  {
   "cell_type": "code",
   "execution_count": 0,
   "metadata": {
    "application/vnd.databricks.v1+cell": {
     "cellMetadata": {
      "byteLimit": 2048000,
      "rowLimit": 10000
     },
     "inputWidgets": {},
     "nuid": "85fdae04-0746-4710-96b9-b387e5fb3495",
     "showTitle": false,
     "title": ""
    }
   },
   "outputs": [
    {
     "output_type": "stream",
     "name": "stderr",
     "output_type": "stream",
     "text": [
      "/root/.ipykernel/995/command-4281590173744933-3448837926:5: FutureWarning: Comparison of Timestamp with datetime.date is deprecated in order to match the standard library behavior. In a future version these will be considered non-comparable. Use 'ts == pd.Timestamp(date)' or 'ts.date() == date' instead.\n  clean_uni_fallout = clean_uni[(clean_uni['ApplicationDate'] > pd.to_datetime('01/01/22'))&(clean_uni['ApplicationDate'] < pd.to_datetime('07/01/23'))]\n"
     ]
    }
   ],
   "source": [
    "## clean data \n",
    "unique_loans_df_clean = subset_data(unique_loans_df, only_funded_loans=False, only_clean_clients=True, most_recent_year_data=False):\n",
    "\n",
    "# ## Before any further analysis, need to subset data to all before '07/01/23' (since need at least 6-months of data..)\n",
    "clean_uni_fallout = clean_uni[(clean_uni['ApplicationDate'] > pd.to_datetime('01/01/22'))&(clean_uni['ApplicationDate'] < pd.to_datetime('07/01/23'))]\n",
    "# Verify if we ONLY want to use 22+23 data \n",
    "# \n",
    "\n",
    "## Now remove Purpose == 'Construction' (since construction Loans length > 6months )\n",
    "clean_uni_fallout = clean_uni_fallout[clean_uni_fallout['Purpose']!='Construction']"
   ]
  },
  {
   "cell_type": "code",
   "execution_count": 0,
   "metadata": {
    "application/vnd.databricks.v1+cell": {
     "cellMetadata": {
      "byteLimit": 2048000,
      "rowLimit": 10000
     },
     "inputWidgets": {},
     "nuid": "e0e932be-fd0e-4f87-af99-09c315fecdfa",
     "showTitle": false,
     "title": ""
    }
   },
   "outputs": [],
   "source": [
    "## Applying: COALESCE(FinalApproval, ClearToClose)..\n",
    "clean_uni_fallout['FinalApproval'].fillna(clean_uni_fallout['ClearToClose'], inplace=True)\n",
    "\n",
    "# given above, I will no longer need the ClearToClose Milestone..."
   ]
  },
  {
   "cell_type": "markdown",
   "metadata": {
    "application/vnd.databricks.v1+cell": {
     "cellMetadata": {
      "byteLimit": 2048000,
      "rowLimit": 10000
     },
     "inputWidgets": {},
     "nuid": "8fa7813d-3d55-4150-b1f4-f365bef2dd43",
     "showTitle": false,
     "title": ""
    }
   },
   "source": [
    "**Verify** \n",
    "- okey to combine CleartoClose into FinalApproval..to unify analysis:)\n",
    "- year to subset the data..."
   ]
  },
  {
   "cell_type": "code",
   "execution_count": 0,
   "metadata": {
    "application/vnd.databricks.v1+cell": {
     "cellMetadata": {
      "byteLimit": 2048000,
      "rowLimit": 10000
     },
     "inputWidgets": {},
     "nuid": "d9004129-76c2-40c4-a8bc-e7aadd4ede72",
     "showTitle": false,
     "title": ""
    }
   },
   "outputs": [
    {
     "output_type": "execute_result",
     "data": {
      "text/html": [
       "<div>\n",
       "<style scoped>\n",
       "    .dataframe tbody tr th:only-of-type {\n",
       "        vertical-align: middle;\n",
       "    }\n",
       "\n",
       "    .dataframe tbody tr th {\n",
       "        vertical-align: top;\n",
       "    }\n",
       "\n",
       "    .dataframe thead th {\n",
       "        text-align: right;\n",
       "    }\n",
       "</style>\n",
       "<table border=\"1\" class=\"dataframe\">\n",
       "  <thead>\n",
       "    <tr style=\"text-align: right;\">\n",
       "      <th></th>\n",
       "      <th>Clientkey</th>\n",
       "      <th>ApplicationDate</th>\n",
       "      <th>SubmittoProc</th>\n",
       "      <th>UWSubmission</th>\n",
       "      <th>FinalApproval</th>\n",
       "      <th>ClearToClose</th>\n",
       "      <th>Funded</th>\n",
       "    </tr>\n",
       "  </thead>\n",
       "  <tbody>\n",
       "    <tr>\n",
       "      <th>0</th>\n",
       "      <td>168</td>\n",
       "      <td>21320</td>\n",
       "      <td>17964</td>\n",
       "      <td>16795</td>\n",
       "      <td>14338</td>\n",
       "      <td>14108</td>\n",
       "      <td>14156</td>\n",
       "    </tr>\n",
       "    <tr>\n",
       "      <th>1</th>\n",
       "      <td>192</td>\n",
       "      <td>4790</td>\n",
       "      <td>3838</td>\n",
       "      <td>1163</td>\n",
       "      <td>2999</td>\n",
       "      <td>2999</td>\n",
       "      <td>3008</td>\n",
       "    </tr>\n",
       "    <tr>\n",
       "      <th>2</th>\n",
       "      <td>213</td>\n",
       "      <td>4614</td>\n",
       "      <td>4376</td>\n",
       "      <td>3974</td>\n",
       "      <td>3679</td>\n",
       "      <td>0</td>\n",
       "      <td>3627</td>\n",
       "    </tr>\n",
       "    <tr>\n",
       "      <th>3</th>\n",
       "      <td>218</td>\n",
       "      <td>17184</td>\n",
       "      <td>13407</td>\n",
       "      <td>12554</td>\n",
       "      <td>11718</td>\n",
       "      <td>11718</td>\n",
       "      <td>11590</td>\n",
       "    </tr>\n",
       "    <tr>\n",
       "      <th>4</th>\n",
       "      <td>223</td>\n",
       "      <td>16511</td>\n",
       "      <td>13133</td>\n",
       "      <td>12857</td>\n",
       "      <td>12754</td>\n",
       "      <td>11498</td>\n",
       "      <td>11398</td>\n",
       "    </tr>\n",
       "    <tr>\n",
       "      <th>5</th>\n",
       "      <td>245</td>\n",
       "      <td>3188</td>\n",
       "      <td>2907</td>\n",
       "      <td>2910</td>\n",
       "      <td>2806</td>\n",
       "      <td>2792</td>\n",
       "      <td>2768</td>\n",
       "    </tr>\n",
       "    <tr>\n",
       "      <th>6</th>\n",
       "      <td>252</td>\n",
       "      <td>1686</td>\n",
       "      <td>1377</td>\n",
       "      <td>1297</td>\n",
       "      <td>1146</td>\n",
       "      <td>1146</td>\n",
       "      <td>1146</td>\n",
       "    </tr>\n",
       "    <tr>\n",
       "      <th>7</th>\n",
       "      <td>255</td>\n",
       "      <td>12123</td>\n",
       "      <td>9597</td>\n",
       "      <td>9058</td>\n",
       "      <td>6755</td>\n",
       "      <td>6755</td>\n",
       "      <td>6669</td>\n",
       "    </tr>\n",
       "    <tr>\n",
       "      <th>8</th>\n",
       "      <td>257</td>\n",
       "      <td>4354</td>\n",
       "      <td>3565</td>\n",
       "      <td>3363</td>\n",
       "      <td>2938</td>\n",
       "      <td>2938</td>\n",
       "      <td>3064</td>\n",
       "    </tr>\n",
       "    <tr>\n",
       "      <th>9</th>\n",
       "      <td>258</td>\n",
       "      <td>1924</td>\n",
       "      <td>1656</td>\n",
       "      <td>1519</td>\n",
       "      <td>172</td>\n",
       "      <td>172</td>\n",
       "      <td>1336</td>\n",
       "    </tr>\n",
       "  </tbody>\n",
       "</table>\n",
       "</div>"
      ],
      "text/plain": [
       "   Clientkey  ApplicationDate  ...  ClearToClose  Funded\n",
       "0        168            21320  ...         14108   14156\n",
       "1        192             4790  ...          2999    3008\n",
       "2        213             4614  ...             0    3627\n",
       "3        218            17184  ...         11718   11590\n",
       "4        223            16511  ...         11498   11398\n",
       "5        245             3188  ...          2792    2768\n",
       "6        252             1686  ...          1146    1146\n",
       "7        255            12123  ...          6755    6669\n",
       "8        257             4354  ...          2938    3064\n",
       "9        258             1924  ...           172    1336\n",
       "\n",
       "[10 rows x 7 columns]"
      ]
     },
     "execution_count": 50,
     "metadata": {},
     "output_type": "execute_result"
    }
   ],
   "source": [
    "clean_uni_fallout.groupby(['Clientkey'])[['ApplicationDate', 'SubmittoProc', 'UWSubmission', 'FinalApproval', 'ClearToClose', 'Funded']].apply(lambda x: x.notnull().sum()).reset_index()"
   ]
  },
  {
   "cell_type": "code",
   "execution_count": 0,
   "metadata": {
    "application/vnd.databricks.v1+cell": {
     "cellMetadata": {
      "byteLimit": 2048000,
      "rowLimit": 10000
     },
     "inputWidgets": {},
     "nuid": "dade9d53-d86e-4df9-ba82-707b6b4b8268",
     "showTitle": false,
     "title": ""
    }
   },
   "outputs": [
    {
     "output_type": "display_data",
     "data": {
      "text/html": [
       "<style scoped>\n",
       "  .table-result-container {\n",
       "    max-height: 300px;\n",
       "    overflow: auto;\n",
       "  }\n",
       "  table, th, td {\n",
       "    border: 1px solid black;\n",
       "    border-collapse: collapse;\n",
       "  }\n",
       "  th, td {\n",
       "    padding: 5px;\n",
       "  }\n",
       "  th {\n",
       "    text-align: left;\n",
       "  }\n",
       "</style><div class='table-result-container'><table class='table-result'><thead style='background-color: white'><tr><th>Clientkey</th><th>ApplicationDate</th><th>SubmittoProc</th><th>UWSubmission</th><th>FinalApproval</th><th>Funded</th></tr></thead><tbody><tr><td>168</td><td>21320</td><td>17964</td><td>16795</td><td>14338</td><td>14156</td></tr><tr><td>192</td><td>4790</td><td>3838</td><td>1163</td><td>2999</td><td>3008</td></tr><tr><td>213</td><td>4614</td><td>4376</td><td>3974</td><td>3679</td><td>3627</td></tr><tr><td>218</td><td>17184</td><td>13407</td><td>12554</td><td>11718</td><td>11590</td></tr><tr><td>223</td><td>16511</td><td>13133</td><td>12857</td><td>12754</td><td>11398</td></tr><tr><td>245</td><td>3188</td><td>2907</td><td>2910</td><td>2806</td><td>2768</td></tr><tr><td>252</td><td>1686</td><td>1377</td><td>1297</td><td>1146</td><td>1146</td></tr><tr><td>255</td><td>12123</td><td>9597</td><td>9058</td><td>6755</td><td>6669</td></tr><tr><td>257</td><td>4354</td><td>3565</td><td>3363</td><td>2938</td><td>3064</td></tr><tr><td>258</td><td>1924</td><td>1656</td><td>1519</td><td>172</td><td>1336</td></tr></tbody></table></div>"
      ]
     },
     "metadata": {
      "application/vnd.databricks.v1+output": {
       "addedWidgets": {},
       "aggData": [],
       "aggError": "",
       "aggOverflow": false,
       "aggSchema": [],
       "aggSeriesLimitReached": false,
       "aggType": "",
       "arguments": {},
       "columnCustomDisplayInfos": {},
       "data": [
        [
         168,
         21320,
         17964,
         16795,
         14338,
         14156
        ],
        [
         192,
         4790,
         3838,
         1163,
         2999,
         3008
        ],
        [
         213,
         4614,
         4376,
         3974,
         3679,
         3627
        ],
        [
         218,
         17184,
         13407,
         12554,
         11718,
         11590
        ],
        [
         223,
         16511,
         13133,
         12857,
         12754,
         11398
        ],
        [
         245,
         3188,
         2907,
         2910,
         2806,
         2768
        ],
        [
         252,
         1686,
         1377,
         1297,
         1146,
         1146
        ],
        [
         255,
         12123,
         9597,
         9058,
         6755,
         6669
        ],
        [
         257,
         4354,
         3565,
         3363,
         2938,
         3064
        ],
        [
         258,
         1924,
         1656,
         1519,
         172,
         1336
        ]
       ],
       "datasetInfos": [],
       "dbfsResultPath": null,
       "isJsonSchema": true,
       "metadata": {},
       "overflow": false,
       "plotOptions": {
        "customPlotOptions": {},
        "displayType": "table",
        "pivotAggregation": null,
        "pivotColumns": null,
        "xColumns": null,
        "yColumns": null
       },
       "removedWidgets": [],
       "schema": [
        {
         "metadata": "{}",
         "name": "Clientkey",
         "type": "\"long\""
        },
        {
         "metadata": "{}",
         "name": "ApplicationDate",
         "type": "\"long\""
        },
        {
         "metadata": "{}",
         "name": "SubmittoProc",
         "type": "\"long\""
        },
        {
         "metadata": "{}",
         "name": "UWSubmission",
         "type": "\"long\""
        },
        {
         "metadata": "{}",
         "name": "FinalApproval",
         "type": "\"long\""
        },
        {
         "metadata": "{}",
         "name": "Funded",
         "type": "\"long\""
        }
       ],
       "type": "table"
      }
     },
     "output_type": "display_data"
    },
    {
     "output_type": "display_data",
     "data": {
      "text/plain": [
       "Databricks visualization. Run in Databricks to view."
      ]
     },
     "metadata": {
      "application/vnd.databricks.v1.subcommand+json": {
       "baseErrorDetails": null,
       "bindings": {},
       "collapsed": false,
       "command": "%python\n__backend_agg_display_orig = display\n__backend_agg_dfs = []\ndef __backend_agg_display_new(df):\n    __backend_agg_df_modules = [\"pandas.core.frame\", \"databricks.koalas.frame\", \"pyspark.sql.dataframe\", \"pyspark.pandas.frame\", \"pyspark.sql.connect.dataframe\"]\n    if (type(df).__module__ in __backend_agg_df_modules and type(df).__name__ == 'DataFrame') or isinstance(df, list):\n        __backend_agg_dfs.append(df)\n\ndisplay = __backend_agg_display_new\n\ndef __backend_agg_user_code_fn():\n    import base64\n    exec(base64.standard_b64decode(\"IyMgTGV0cyBsb29rIGF0IHRoZSBkaXN0cmlidXRpb24gb2YgTWlsZXN0b25lcyBhY3Jvc3MgQ2xpZW50cyAoY2xlYW4gY2xpZW50cykKbWlsZXN0b25lc19hY3Jvc3NfY2xlYW5fRklzID0gY2xlYW5fdW5pX2ZhbGxvdXQuZ3JvdXBieShbJ0NsaWVudGtleSddKVtbJ0FwcGxpY2F0aW9uRGF0ZScsICdTdWJtaXR0b1Byb2MnLCAnVVdTdWJtaXNzaW9uJywgJ0ZpbmFsQXBwcm92YWwnLCAnRnVuZGVkJ11dLmFwcGx5KGxhbWJkYSB4OiB4Lm5vdG51bGwoKS5zdW0oKSkucmVzZXRfaW5kZXgoKQoKIyBubyBuZWVkIGZvciBudW5pcXVlIExvYW5zIGhlcmU6IAojIHNpbmNlIG9ubHkgdW5pcXVlIHJlY29yZHMgYXJlIGluIHRoZSB1c2VkIERGCgpkaXNwbGF5KG1pbGVzdG9uZXNfYWNyb3NzX2NsZWFuX0ZJcykgCgojIyBwdXJwb3NlICE9IGNvbnN0cnVjdGlvbiAnQycgLSBET05FCgojIyBzdWJzZXQgdG8gNi1tb250aHM6IGFwcGxpY2F0aW9uZGF0YSA+IDAxLzAxLzIzIDwgMDcvMDEvMjMgLSBWZXJpZnk6KSAtIGRhdGEgY29tcGFyaXNvbiBvZiBib3RoLi5ob3BlZnVsbHkgc2hyaW5raW5nLi4uYnkgeWVhcj8KIyMgZ28gZnVydGhlciB0aGFuIDkwZGF5cyBhZ28gdG8gY2FsY3VsYXRlIGZhbGxvdXQgKG90aGVyd2lzZSBkb2Vzbid0IG1ha2Ugc2Vuc2UpCgo=\").decode())\n\ntry:\n    # run user code\n    __backend_agg_user_code_fn()\n\n    #reset display function\n    display = __backend_agg_display_orig\n\n    if len(__backend_agg_dfs) > 0:\n        # create a temp view\n        if type(__backend_agg_dfs[0]).__module__ == \"databricks.koalas.frame\":\n            # koalas dataframe\n            __backend_agg_dfs[0].to_spark().createOrReplaceTempView(\"DatabricksViewca7ef47\")\n        elif type(__backend_agg_dfs[0]).__module__ == \"pandas.core.frame\" or isinstance(__backend_agg_dfs[0], list):\n            # pandas dataframe\n            spark.createDataFrame(__backend_agg_dfs[0]).createOrReplaceTempView(\"DatabricksViewca7ef47\")\n        else:\n            __backend_agg_dfs[0].createOrReplaceTempView(\"DatabricksViewca7ef47\")\n        #run backend agg\n        display(spark.sql(\"\"\"WITH q AS (select * from DatabricksViewca7ef47) SELECT `Clientkey`,SUM(`ApplicationDate`) `column_53bf146b20`,SUM(`SubmittoProc`) `column_53bf146b22`,SUM(`UWSubmission`) `column_53bf146b24`,SUM(`FinalApproval`) `column_53bf146b26`,SUM(`Funded`) `column_53bf146b28` FROM q GROUP BY `Clientkey`\"\"\"))\n    else:\n        displayHTML(\"dataframe no longer exists. If you're using dataframe.display(), use display(dataframe) instead.\")\n\n\nfinally:\n    spark.sql(\"drop view if exists DatabricksViewca7ef47\")\n    display = __backend_agg_display_orig\n    del __backend_agg_display_new\n    del __backend_agg_display_orig\n    del __backend_agg_dfs\n    del __backend_agg_user_code_fn\n\n",
       "commandTitle": "Visualization 1",
       "commandType": "auto",
       "commandVersion": 0,
       "commentThread": [],
       "commentsVisible": false,
       "contentSha256Hex": null,
       "customPlotOptions": {
        "redashChart": [
         {
          "key": "type",
          "value": "CHART"
         },
         {
          "key": "options",
          "value": {
           "alignYAxesAtZero": true,
           "coefficient": 1,
           "columnConfigurationMap": {
            "x": {
             "column": "Clientkey",
             "id": "column_53bf146b18"
            },
            "y": [
             {
              "column": "ApplicationDate",
              "id": "column_53bf146b20",
              "transform": "SUM"
             },
             {
              "column": "SubmittoProc",
              "id": "column_53bf146b22",
              "transform": "SUM"
             },
             {
              "column": "UWSubmission",
              "id": "column_53bf146b24",
              "transform": "SUM"
             },
             {
              "column": "FinalApproval",
              "id": "column_53bf146b26",
              "transform": "SUM"
             },
             {
              "column": "Funded",
              "id": "column_53bf146b28",
              "transform": "SUM"
             }
            ]
           },
           "dateTimeFormat": "DD/MM/YYYY HH:mm",
           "direction": {
            "type": "counterclockwise"
           },
           "error_y": {
            "type": "data",
            "visible": true
           },
           "globalSeriesType": "column",
           "isAggregationOn": true,
           "legend": {
            "traceorder": "normal"
           },
           "missingValuesAsZero": true,
           "numberFormat": "0,0.[00000]",
           "percentFormat": "0[.]00%",
           "series": {
            "error_y": {
             "type": "data",
             "visible": true
            },
            "stacking": null
           },
           "seriesOptions": {
            "column_53bf146b20": {
             "type": "column",
             "yAxis": 0
            },
            "column_53bf146b22": {
             "type": "column",
             "yAxis": 0
            },
            "column_53bf146b24": {
             "type": "column",
             "yAxis": 0
            },
            "column_53bf146b26": {
             "type": "column",
             "yAxis": 0
            },
            "column_53bf146b28": {
             "type": "column",
             "yAxis": 0
            }
           },
           "showDataLabels": false,
           "sizemode": "diameter",
           "sortX": true,
           "sortY": true,
           "swappedAxes": false,
           "textFormat": "",
           "useAggregationsUi": true,
           "valuesOptions": {},
           "version": 2,
           "xAxis": {
            "labels": {
             "enabled": true
            },
            "type": "category"
           },
           "yAxis": [
            {
             "type": "-"
            },
            {
             "opposite": true,
             "type": "-"
            }
           ]
          }
         }
        ]
       },
       "datasetPreviewNameToCmdIdMap": {},
       "diffDeletes": [],
       "diffInserts": [],
       "displayType": "redashChart",
       "error": null,
       "errorDetails": null,
       "errorSummary": null,
       "errorTraceType": null,
       "finishTime": 0,
       "globalVars": {},
       "guid": "",
       "height": "auto",
       "hideCommandCode": false,
       "hideCommandResult": false,
       "iPythonMetadata": null,
       "inputWidgets": {},
       "isLockedInExamMode": false,
       "latestUser": "a user",
       "latestUserId": null,
       "listResultMetadata": null,
       "metadata": {},
       "nuid": "a5d96d3d-9a01-422f-bdb6-03d98ab9ab1f",
       "origId": 0,
       "parentHierarchy": [],
       "pivotAggregation": null,
       "pivotColumns": null,
       "position": 3.030503034591675,
       "resultDbfsErrorMessage": null,
       "resultDbfsStatus": "INLINED_IN_TREE",
       "results": null,
       "showCommandTitle": false,
       "startTime": 0,
       "state": "input",
       "streamStates": {},
       "subcommandOptions": {
        "queryPlan": {
         "groups": [
          {
           "column": "Clientkey",
           "type": "column"
          }
         ],
         "selects": [
          {
           "column": "Clientkey",
           "type": "column"
          },
          {
           "alias": "column_53bf146b20",
           "args": [
            {
             "column": "ApplicationDate",
             "type": "column"
            }
           ],
           "function": "SUM",
           "type": "function"
          },
          {
           "alias": "column_53bf146b22",
           "args": [
            {
             "column": "SubmittoProc",
             "type": "column"
            }
           ],
           "function": "SUM",
           "type": "function"
          },
          {
           "alias": "column_53bf146b24",
           "args": [
            {
             "column": "UWSubmission",
             "type": "column"
            }
           ],
           "function": "SUM",
           "type": "function"
          },
          {
           "alias": "column_53bf146b26",
           "args": [
            {
             "column": "FinalApproval",
             "type": "column"
            }
           ],
           "function": "SUM",
           "type": "function"
          },
          {
           "alias": "column_53bf146b28",
           "args": [
            {
             "column": "Funded",
             "type": "column"
            }
           ],
           "function": "SUM",
           "type": "function"
          }
         ]
        }
       },
       "submitTime": 0,
       "subtype": "tableResultSubCmd.visualization",
       "tableResultIndex": 0,
       "useConsistentColors": false,
       "version": "CommandV1",
       "width": "auto",
       "workflows": [],
       "xColumns": null,
       "yColumns": null
      }
     },
     "output_type": "display_data"
    }
   ],
   "source": [
    "## Lets look at the distribution of Milestones across Clients (clean clients)\n",
    "milestones_across_clean_FIs = clean_uni_fallout.groupby(['Clientkey'])[['ApplicationDate', 'SubmittoProc', 'UWSubmission', 'FinalApproval', 'Funded']].apply(lambda x: x.notnull().sum()).reset_index()\n",
    "\n",
    "# no need for nunique Loans here: \n",
    "# since only unique records are in the used DF\n",
    "\n",
    "display(milestones_across_clean_FIs) "
   ]
  },
  {
   "cell_type": "markdown",
   "metadata": {
    "application/vnd.databricks.v1+cell": {
     "cellMetadata": {
      "byteLimit": 2048000,
      "rowLimit": 10000
     },
     "inputWidgets": {},
     "nuid": "3be10a7e-7248-4cc9-a39e-ebbd4c45d4e9",
     "showTitle": false,
     "title": ""
    }
   },
   "source": [
    "Observe above distributions...\n",
    "- For the most part distribution look the same\n",
    "- Though **not all clients use UWSubmission & SubmittoProc similarly**, those two Milestones' distributions has more variability between FIs\n",
    "\n",
    "- From above, **fallout rates will be calculated independently for FIs** rather than globally across FIs "
   ]
  },
  {
   "cell_type": "markdown",
   "metadata": {
    "application/vnd.databricks.v1+cell": {
     "cellMetadata": {
      "byteLimit": 2048000,
      "rowLimit": 10000
     },
     "inputWidgets": {},
     "nuid": "af68108d-ec47-4d16-b96b-da21e6fe1b15",
     "showTitle": false,
     "title": ""
    }
   },
   "source": [
    "### Loan Fallout Calculation\n",
    "Process: \n",
    "- Calculate fallout for a clients, for each of the desired milestones\n",
    "- Apply fallouts to Monthly forcasted funded-loans (to get the full numbers of Application forecasts)\n",
    "    - **how are we going to apply fallouts for forecasted?**\n",
    "    - **should we be ab le to *forecast* fallouts? or expect them to follow same behavior?** - Analysis...\n",
    "\n",
    "- Methods:\n",
    "    - calculate fallout percentages for each of the loan stages\n",
    "    - fallouts are percentages, calculated monthly, independently for the different years (data used spans 01-2022 to 06-2023)\n",
    "    - the output, is a dataframe with the percentage fallouts, for each of the milestones, for the different clients\n"
   ]
  },
  {
   "cell_type": "code",
   "execution_count": 0,
   "metadata": {
    "application/vnd.databricks.v1+cell": {
     "cellMetadata": {
      "byteLimit": 2048000,
      "rowLimit": 10000
     },
     "inputWidgets": {},
     "nuid": "9bed71ac-92c2-4554-92cc-fc52784b4405",
     "showTitle": false,
     "title": ""
    }
   },
   "outputs": [],
   "source": [
    "def calculate_monthly_fallout_by_client(df):\n",
    "    # Convert dates to datetime\n",
    "    df['ApplicationDate'] = pd.to_datetime(df['ApplicationDate'])\n",
    "    df['SubmittoProc'] = pd.to_datetime(df['SubmittoProc']) \n",
    "    df['UWSubmission'] = pd.to_datetime(df['UWSubmission'])\n",
    "    df['FinalApproval'] = pd.to_datetime(df['FinalApproval'])\n",
    "    df['Funded'] = pd.to_datetime(df['Funded'])\n",
    "    \n",
    "    # Group by Clientkey\n",
    "    grouped = df.groupby('Clientkey') \n",
    "    \n",
    "    # Initialize output dict\n",
    "    out = {}\n",
    "    \n",
    "    # Iterate through each group \n",
    "    for name, group in grouped:\n",
    "        # Get distinct months \n",
    "        months = group['ApplicationDate'].dt.to_period('M').unique()\n",
    "        \n",
    "        # Initialize dataframe\n",
    "        out[name] = pd.DataFrame(index=months)\n",
    "\n",
    "        # Iterate through stages\n",
    "        for col in ['SubmittoProc', 'UWSubmission', 'FinalApproval', 'Funded']:\n",
    "\n",
    "            # Groupby month and count fallouts\n",
    "            grp = group.groupby(group['ApplicationDate'].dt.to_period('M'))[col].apply(lambda x: x.isnull().sum())\n",
    "\n",
    "            # Calculate percentages\n",
    "            fallout_pct = grp / group.groupby(group['ApplicationDate'].dt.to_period('M'))['LoanNumber'].count()\n",
    "\n",
    "            # Add to output dataframe\n",
    "            out[name][col] = fallout_pct\n",
    "            \n",
    "    ## append items to df\n",
    "    client_dfs = {}\n",
    "    for name, df in out.items():\n",
    "        df = df.reset_index().melt(id_vars='ApplicationDate')\n",
    "        df['Client'] = name\n",
    "        client_dfs[name] = df\n",
    "\n",
    "    output_df = pd.concat(client_dfs.values(), ignore_index=True)\n",
    "    output_df.columns = ['Month', 'Stage', 'FalloutPct', 'Client']\n",
    "    \n",
    "    return output_df\n",
    "    \n",
    "    # return out"
   ]
  },
  {
   "cell_type": "code",
   "execution_count": 0,
   "metadata": {
    "application/vnd.databricks.v1+cell": {
     "cellMetadata": {
      "byteLimit": 2048000,
      "rowLimit": 10000
     },
     "inputWidgets": {},
     "nuid": "82735a0b-12b4-41e8-8f1e-f378ec589aa3",
     "showTitle": false,
     "title": ""
    }
   },
   "outputs": [
    {
     "output_type": "execute_result",
     "data": {
      "text/plain": [
       "{168:          SubmittoProc  UWSubmission  FinalApproval    Funded\n",
       " 2023-03      0.159967      0.215751       0.328958  0.339623\n",
       " 2023-05      0.158992      0.209383       0.320591  0.334492\n",
       " 2023-04      0.157184      0.201543       0.318226  0.327869\n",
       " 2023-06      0.159817      0.193607       0.317808  0.325114\n",
       " 2022-10      0.171533      0.265207       0.367397  0.369830\n",
       " 2022-09      0.167677      0.225253       0.338384  0.351515\n",
       " 2022-11      0.164609      0.222222       0.333333  0.344307\n",
       " 2022-12      0.143317      0.190016       0.315620  0.326892\n",
       " 2023-01      0.150000      0.197619       0.305952  0.311905\n",
       " 2023-02      0.161227      0.204748       0.322453  0.327399\n",
       " 2022-03      0.163021      0.220312       0.329688  0.338542\n",
       " 2022-02      0.153565      0.207191       0.331505  0.334552\n",
       " 2022-01      0.149020      0.197199       0.319888  0.331092\n",
       " 2022-04      0.158606      0.215505       0.333570  0.338549\n",
       " 2022-06      0.149635      0.221898       0.338686  0.348175\n",
       " 2022-05      0.168768      0.217787       0.336835  0.346639\n",
       " 2022-07      0.146056      0.197663       0.300876  0.311587\n",
       " 2022-08      0.150651      0.219870       0.328990  0.335505,\n",
       " 192:          SubmittoProc  UWSubmission  FinalApproval    Funded\n",
       " 2023-04      0.137184      0.216606       0.321300  0.328520\n",
       " 2023-05      0.157377      0.213115       0.400000  0.403279\n",
       " 2023-03      0.151394      0.231076       0.342629  0.346614\n",
       " 2023-06      0.133603      0.174089       0.340081  0.356275\n",
       " 2022-11      0.267677      0.974747       0.459596  0.404040\n",
       " 2023-02      0.154639      0.237113       0.335052  0.324742\n",
       " 2022-09      0.218605      0.972093       0.381395  0.381395\n",
       " 2022-10      0.308642      0.944444       0.444444  0.444444\n",
       " 2022-12      0.178344      0.980892       0.305732  0.312102\n",
       " 2023-01      0.196429      0.486607       0.370536  0.321429\n",
       " 2022-06      0.226481      1.000000       0.414634  0.414634\n",
       " 2022-02      0.204204      1.000000       0.390390  0.390390\n",
       " 2022-01      0.206304      1.000000       0.338109  0.338109\n",
       " 2022-03      0.154667      1.000000       0.312000  0.317333\n",
       " 2022-04      0.246914      1.000000       0.438272  0.438272\n",
       " 2022-05      0.198630      1.000000       0.390411  0.400685\n",
       " 2022-07      0.239344      0.960656       0.377049  0.377049\n",
       " 2022-08      0.233898      0.962712       0.386441  0.389831,\n",
       " 213:          SubmittoProc  UWSubmission  FinalApproval    Funded\n",
       " 2023-04      0.058091      0.141079       0.203320  0.211618\n",
       " 2023-03      0.038462      0.091346       0.158654  0.182692\n",
       " 2023-05      0.057762      0.169675       0.245487  0.267148\n",
       " 2023-06      0.032653      0.142857       0.212245  0.236735\n",
       " 2022-10      0.044898      0.138776       0.200000  0.212245\n",
       " 2023-01      0.039409      0.147783       0.216749  0.221675\n",
       " 2022-12      0.054545      0.127273       0.200000  0.218182\n",
       " 2022-11      0.036145      0.138554       0.216867  0.222892\n",
       " 2023-02      0.055866      0.162011       0.212291  0.212291\n",
       " 2022-09      0.036530      0.136986       0.191781  0.191781\n",
       " 2022-01      0.044077      0.129477       0.206612  0.212121\n",
       " 2022-02      0.031250      0.131944       0.194444  0.197917\n",
       " 2022-06      0.088435      0.149660       0.210884  0.217687\n",
       " 2022-03      0.080685      0.173594       0.224939  0.234719\n",
       " 2022-05      0.056782      0.135647       0.186120  0.208202\n",
       " 2022-04      0.051515      0.115152       0.145455  0.151515\n",
       " 2022-07      0.032967      0.109890       0.212454  0.230769\n",
       " 2022-08      0.060729      0.137652       0.210526  0.222672,\n",
       " 218:          SubmittoProc  UWSubmission  FinalApproval    Funded\n",
       " 2023-06      0.197002      0.238758       0.299786  0.306210\n",
       " 2023-05      0.201887      0.250000       0.300943  0.305660\n",
       " 2023-04      0.207632      0.252525       0.320988  0.328844\n",
       " 2023-03      0.197397      0.247289       0.290672  0.295011\n",
       " 2022-03      0.236917      0.282178       0.317539  0.327440\n",
       " 2022-04      0.205106      0.262324       0.294894  0.308979\n",
       " 2022-01      0.249655      0.286207       0.328966  0.336552\n",
       " 2022-02      0.238024      0.274701       0.318862  0.324102\n",
       " 2022-10      0.219285      0.275272       0.339036  0.345257\n",
       " 2022-11      0.234043      0.283688       0.331560  0.336879\n",
       " 2022-09      0.263819      0.322864       0.371859  0.378141\n",
       " 2023-02      0.219750      0.265647       0.340751  0.347705\n",
       " 2023-01      0.237430      0.286313       0.326816  0.332402\n",
       " 2022-12      0.238776      0.287755       0.340816  0.367347\n",
       " 2022-06      0.226145      0.297710       0.344466  0.350191\n",
       " 2022-05      0.179708      0.237317       0.269991  0.274291\n",
       " 2022-07      0.222574      0.281646       0.330169  0.336498\n",
       " 2022-08      0.187631      0.234801       0.305031  0.312369,\n",
       " 223:          SubmittoProc  UWSubmission  FinalApproval    Funded\n",
       " 2023-03      0.185031      0.206861       0.219335  0.292100\n",
       " 2023-04      0.177829      0.192841       0.204388  0.275982\n",
       " 2023-05      0.197425      0.213519       0.228541  0.315451\n",
       " 2023-06      0.203822      0.218684       0.222930  0.313163\n",
       " 2022-11      0.216891      0.232246       0.251440  0.309021\n",
       " 2022-10      0.235294      0.245098       0.250000  0.344771\n",
       " 2022-12      0.211045      0.236686       0.238659  0.295858\n",
       " 2023-01      0.185241      0.204819       0.206325  0.301205\n",
       " 2022-09      0.209333      0.228000       0.238667  0.333333\n",
       " 2023-02      0.213930      0.233831       0.240050  0.303483\n",
       " 2022-02      0.200851      0.216170       0.217872  0.290213\n",
       " 2022-05      0.206661      0.225448       0.233988  0.309991\n",
       " 2022-03      0.215154      0.231594       0.230879  0.313796\n",
       " 2022-01      0.211196      0.218830       0.224767  0.297710\n",
       " 2022-04      0.205281      0.221465       0.216354  0.315162\n",
       " 2022-08      0.194143      0.213666       0.224512  0.316703\n",
       " 2022-06      0.216138      0.230548       0.234390  0.335255\n",
       " 2022-07      0.203371      0.224719       0.234831  0.317978,\n",
       " 245:          SubmittoProc  UWSubmission  FinalApproval    Funded\n",
       " 2023-05      0.156250      0.156250       0.168750  0.175000\n",
       " 2023-04      0.102740      0.102740       0.136986  0.150685\n",
       " 2023-03      0.122093      0.122093       0.133721  0.139535\n",
       " 2023-06      0.094118      0.094118       0.117647  0.117647\n",
       " 2022-10      0.097015      0.097015       0.141791  0.171642\n",
       " 2022-09      0.085227      0.085227       0.113636  0.136364\n",
       " 2022-12      0.119565      0.119565       0.141304  0.163043\n",
       " 2023-02      0.079710      0.079710       0.137681  0.144928\n",
       " 2022-11      0.078014      0.078014       0.113475  0.120567\n",
       " 2023-01      0.157025      0.157025       0.198347  0.214876\n",
       " 2022-01      0.061856      0.061856       0.082474  0.092784\n",
       " 2022-08      0.056701      0.051546       0.103093  0.134021\n",
       " 2022-02      0.058824      0.054299       0.104072  0.104072\n",
       " 2022-04      0.068182      0.068182       0.113636  0.118182\n",
       " 2022-03      0.086643      0.086643       0.108303  0.126354\n",
       " 2022-06      0.077720      0.077720       0.108808  0.119171\n",
       " 2022-07      0.081967      0.081967       0.114754  0.131148\n",
       " 2022-05      0.074219      0.070312       0.097656  0.101562,\n",
       " 252:          SubmittoProc  UWSubmission  FinalApproval    Funded\n",
       " 2023-04      0.134454      0.218487       0.336134  0.344538\n",
       " 2023-03      0.159664      0.235294       0.310924  0.319328\n",
       " 2023-05      0.130435      0.200000       0.304348  0.304348\n",
       " 2023-06      0.163265      0.234694       0.346939  0.346939\n",
       " 2022-04      0.263158      0.315789       0.333333  0.315789\n",
       " 2022-07      0.186747      0.216867       0.337349  0.337349\n",
       " 2022-01      0.256098      0.280488       0.304878  0.292683\n",
       " 2022-02      0.202703      0.243243       0.310811  0.310811\n",
       " 2022-12      0.162500      0.212500       0.275000  0.275000\n",
       " 2022-03      0.275000      0.300000       0.425000  0.425000\n",
       " 2022-10      0.229730      0.283784       0.432432  0.432432\n",
       " 2023-01      0.161616      0.222222       0.303030  0.303030\n",
       " 2022-11      0.088235      0.147059       0.235294  0.235294\n",
       " 2022-09      0.261364      0.272727       0.386364  0.386364\n",
       " 2023-02      0.166667      0.188889       0.300000  0.311111\n",
       " 2022-05      0.270270      0.364865       0.459459  0.445946\n",
       " 2022-06      0.178571      0.190476       0.285714  0.285714\n",
       " 2022-08      0.117647      0.134454       0.151261  0.151261,\n",
       " 255:          SubmittoProc  UWSubmission  FinalApproval    Funded\n",
       " 2022-09      0.176080      0.197674       0.433555  0.440199\n",
       " 2022-08      0.215054      0.253456       0.443932  0.447005\n",
       " 2022-07      0.227929      0.258427       0.439807  0.446228\n",
       " 2022-03      0.228436      0.296682       0.469194  0.480569\n",
       " 2022-02      0.223060      0.303879       0.454741  0.462284\n",
       " 2022-06      0.260989      0.299451       0.482143  0.486264\n",
       " 2022-04      0.234043      0.257683       0.416076  0.420804\n",
       " 2022-05      0.238750      0.283750       0.472500  0.476250\n",
       " 2022-01      0.224876      0.303483       0.437811  0.451741\n",
       " 2022-10      0.184810      0.222785       0.435443  0.435443\n",
       " 2023-05      0.153139      0.191424       0.433384  0.434916\n",
       " 2022-11      0.194805      0.240260       0.456710  0.467532\n",
       " 2023-04      0.185121      0.223183       0.408304  0.413495\n",
       " 2023-01      0.184483      0.212069       0.450000  0.458621\n",
       " 2022-12      0.194103      0.218673       0.454545  0.461916\n",
       " 2023-02      0.190563      0.232305       0.433757  0.444646\n",
       " 2023-03      0.171569      0.200980       0.403595  0.410131\n",
       " 2023-06      0.183926      0.217929       0.420402  0.429675,\n",
       " 257:          SubmittoProc  UWSubmission  FinalApproval    Funded\n",
       " 2023-03      0.083333      0.108333       0.254167  0.204167\n",
       " 2023-04      0.056769      0.148472       0.227074  0.213974\n",
       " 2023-05      0.025641      0.106838       0.213675  0.217949\n",
       " 2023-06      0.032129      0.084337       0.152610  0.160643\n",
       " 2022-02      0.107296      0.158798       0.236052  0.210300\n",
       " 2022-03      0.092857      0.153571       0.285714  0.250000\n",
       " 2022-04      0.117438      0.163701       0.256228  0.224199\n",
       " 2022-05      0.276451      0.307167       0.378840  0.365188\n",
       " 2022-01      0.255245      0.290210       0.398601  0.318182\n",
       " 2023-02      0.087912      0.115385       0.263736  0.192308\n",
       " 2023-01      0.070000      0.105000       0.245000  0.185000\n",
       " 2022-12      0.273810      0.333333       0.452381  0.416667\n",
       " 2022-11      0.250000      0.267857       0.440476  0.392857\n",
       " 2022-06      0.271565      0.319489       0.373802  0.364217\n",
       " 2022-09      0.333333      0.368889       0.444444  0.417778\n",
       " 2022-10      0.306011      0.355191       0.431694  0.409836\n",
       " 2022-07      0.260223      0.297398       0.338290  0.345725\n",
       " 2022-08      0.311526      0.358255       0.464174  0.426791,\n",
       " 258:          SubmittoProc  UWSubmission  FinalApproval    Funded\n",
       " 2023-03      0.170455      0.250000       0.852273  0.329545\n",
       " 2023-04      0.173469      0.224490       0.632653  0.336735\n",
       " 2023-05      0.087912      0.120879       0.494505  0.219780\n",
       " 2023-06      0.132743      0.238938       0.610619  0.345133\n",
       " 2022-11      0.175676      0.337838       1.000000  0.445946\n",
       " 2022-03      0.147368      0.226316       0.994737  0.300000\n",
       " 2022-07      0.106061      0.189394       0.992424  0.272727\n",
       " 2022-01      0.239819      0.276018       0.882353  0.398190\n",
       " 2022-02      0.143885      0.237410       0.992806  0.330935\n",
       " 2022-08      0.141509      0.188679       1.000000  0.283019\n",
       " 2022-05      0.086614      0.149606       1.000000  0.228346\n",
       " 2022-10      0.134328      0.149254       1.000000  0.208955\n",
       " 2022-04      0.129310      0.206897       0.991379  0.293103\n",
       " 2023-02      0.076923      0.153846       1.000000  0.365385\n",
       " 2022-06      0.100000      0.145455       1.000000  0.200000\n",
       " 2022-09      0.074468      0.202128       1.000000  0.255319\n",
       " 2022-12      0.160000      0.240000       0.980000  0.400000\n",
       " 2023-01      0.089286      0.142857       0.964286  0.267857}"
      ]
     },
     "execution_count": 69,
     "metadata": {},
     "output_type": "execute_result"
    }
   ],
   "source": [
    "clean_clients_fallouts #make into one dataframe "
   ]
  },
  {
   "cell_type": "code",
   "execution_count": 0,
   "metadata": {
    "application/vnd.databricks.v1+cell": {
     "cellMetadata": {
      "byteLimit": 2048000,
      "rowLimit": 10000
     },
     "inputWidgets": {},
     "nuid": "a2a09df5-de29-4f61-9969-3bb544ca9129",
     "showTitle": false,
     "title": ""
    }
   },
   "outputs": [
    {
     "output_type": "execute_result",
     "data": {
      "text/html": [
       "<div>\n",
       "<style scoped>\n",
       "    .dataframe tbody tr th:only-of-type {\n",
       "        vertical-align: middle;\n",
       "    }\n",
       "\n",
       "    .dataframe tbody tr th {\n",
       "        vertical-align: top;\n",
       "    }\n",
       "\n",
       "    .dataframe thead th {\n",
       "        text-align: right;\n",
       "    }\n",
       "</style>\n",
       "<table border=\"1\" class=\"dataframe\">\n",
       "  <thead>\n",
       "    <tr style=\"text-align: right;\">\n",
       "      <th></th>\n",
       "      <th>SubmittoProc</th>\n",
       "      <th>UWSubmission</th>\n",
       "      <th>FinalApproval</th>\n",
       "      <th>Funded</th>\n",
       "    </tr>\n",
       "  </thead>\n",
       "  <tbody>\n",
       "    <tr>\n",
       "      <th>2023-04</th>\n",
       "      <td>0.137184</td>\n",
       "      <td>0.216606</td>\n",
       "      <td>0.321300</td>\n",
       "      <td>0.328520</td>\n",
       "    </tr>\n",
       "    <tr>\n",
       "      <th>2023-05</th>\n",
       "      <td>0.157377</td>\n",
       "      <td>0.213115</td>\n",
       "      <td>0.400000</td>\n",
       "      <td>0.403279</td>\n",
       "    </tr>\n",
       "    <tr>\n",
       "      <th>2023-03</th>\n",
       "      <td>0.151394</td>\n",
       "      <td>0.231076</td>\n",
       "      <td>0.342629</td>\n",
       "      <td>0.346614</td>\n",
       "    </tr>\n",
       "    <tr>\n",
       "      <th>2023-06</th>\n",
       "      <td>0.133603</td>\n",
       "      <td>0.174089</td>\n",
       "      <td>0.340081</td>\n",
       "      <td>0.356275</td>\n",
       "    </tr>\n",
       "    <tr>\n",
       "      <th>2022-11</th>\n",
       "      <td>0.267677</td>\n",
       "      <td>0.974747</td>\n",
       "      <td>0.459596</td>\n",
       "      <td>0.404040</td>\n",
       "    </tr>\n",
       "    <tr>\n",
       "      <th>2023-02</th>\n",
       "      <td>0.154639</td>\n",
       "      <td>0.237113</td>\n",
       "      <td>0.335052</td>\n",
       "      <td>0.324742</td>\n",
       "    </tr>\n",
       "    <tr>\n",
       "      <th>2022-09</th>\n",
       "      <td>0.218605</td>\n",
       "      <td>0.972093</td>\n",
       "      <td>0.381395</td>\n",
       "      <td>0.381395</td>\n",
       "    </tr>\n",
       "    <tr>\n",
       "      <th>2022-10</th>\n",
       "      <td>0.308642</td>\n",
       "      <td>0.944444</td>\n",
       "      <td>0.444444</td>\n",
       "      <td>0.444444</td>\n",
       "    </tr>\n",
       "    <tr>\n",
       "      <th>2022-12</th>\n",
       "      <td>0.178344</td>\n",
       "      <td>0.980892</td>\n",
       "      <td>0.305732</td>\n",
       "      <td>0.312102</td>\n",
       "    </tr>\n",
       "    <tr>\n",
       "      <th>2023-01</th>\n",
       "      <td>0.196429</td>\n",
       "      <td>0.486607</td>\n",
       "      <td>0.370536</td>\n",
       "      <td>0.321429</td>\n",
       "    </tr>\n",
       "    <tr>\n",
       "      <th>2022-06</th>\n",
       "      <td>0.226481</td>\n",
       "      <td>1.000000</td>\n",
       "      <td>0.414634</td>\n",
       "      <td>0.414634</td>\n",
       "    </tr>\n",
       "    <tr>\n",
       "      <th>2022-02</th>\n",
       "      <td>0.204204</td>\n",
       "      <td>1.000000</td>\n",
       "      <td>0.390390</td>\n",
       "      <td>0.390390</td>\n",
       "    </tr>\n",
       "    <tr>\n",
       "      <th>2022-01</th>\n",
       "      <td>0.206304</td>\n",
       "      <td>1.000000</td>\n",
       "      <td>0.338109</td>\n",
       "      <td>0.338109</td>\n",
       "    </tr>\n",
       "    <tr>\n",
       "      <th>2022-03</th>\n",
       "      <td>0.154667</td>\n",
       "      <td>1.000000</td>\n",
       "      <td>0.312000</td>\n",
       "      <td>0.317333</td>\n",
       "    </tr>\n",
       "    <tr>\n",
       "      <th>2022-04</th>\n",
       "      <td>0.246914</td>\n",
       "      <td>1.000000</td>\n",
       "      <td>0.438272</td>\n",
       "      <td>0.438272</td>\n",
       "    </tr>\n",
       "    <tr>\n",
       "      <th>2022-05</th>\n",
       "      <td>0.198630</td>\n",
       "      <td>1.000000</td>\n",
       "      <td>0.390411</td>\n",
       "      <td>0.400685</td>\n",
       "    </tr>\n",
       "    <tr>\n",
       "      <th>2022-07</th>\n",
       "      <td>0.239344</td>\n",
       "      <td>0.960656</td>\n",
       "      <td>0.377049</td>\n",
       "      <td>0.377049</td>\n",
       "    </tr>\n",
       "    <tr>\n",
       "      <th>2022-08</th>\n",
       "      <td>0.233898</td>\n",
       "      <td>0.962712</td>\n",
       "      <td>0.386441</td>\n",
       "      <td>0.389831</td>\n",
       "    </tr>\n",
       "  </tbody>\n",
       "</table>\n",
       "</div>"
      ],
      "text/plain": [
       "         SubmittoProc  UWSubmission  FinalApproval    Funded\n",
       "2023-04      0.137184      0.216606       0.321300  0.328520\n",
       "2023-05      0.157377      0.213115       0.400000  0.403279\n",
       "2023-03      0.151394      0.231076       0.342629  0.346614\n",
       "2023-06      0.133603      0.174089       0.340081  0.356275\n",
       "2022-11      0.267677      0.974747       0.459596  0.404040\n",
       "2023-02      0.154639      0.237113       0.335052  0.324742\n",
       "2022-09      0.218605      0.972093       0.381395  0.381395\n",
       "2022-10      0.308642      0.944444       0.444444  0.444444\n",
       "2022-12      0.178344      0.980892       0.305732  0.312102\n",
       "2023-01      0.196429      0.486607       0.370536  0.321429\n",
       "2022-06      0.226481      1.000000       0.414634  0.414634\n",
       "2022-02      0.204204      1.000000       0.390390  0.390390\n",
       "2022-01      0.206304      1.000000       0.338109  0.338109\n",
       "2022-03      0.154667      1.000000       0.312000  0.317333\n",
       "2022-04      0.246914      1.000000       0.438272  0.438272\n",
       "2022-05      0.198630      1.000000       0.390411  0.400685\n",
       "2022-07      0.239344      0.960656       0.377049  0.377049\n",
       "2022-08      0.233898      0.962712       0.386441  0.389831"
      ]
     },
     "execution_count": 58,
     "metadata": {},
     "output_type": "execute_result"
    }
   ],
   "source": [
    "## Run fallout calculation function \n",
    "clean_clients_fallouts = calculate_monthly_fallout_by_client(clean_uni_fallout)\n",
    "\n",
    "## show example output \n",
    "clean_clients_fallouts[192]"
   ]
  },
  {
   "cell_type": "code",
   "execution_count": 0,
   "metadata": {
    "application/vnd.databricks.v1+cell": {
     "cellMetadata": {
      "byteLimit": 2048000,
      "rowLimit": 10000
     },
     "inputWidgets": {},
     "nuid": "2c4f72dd-9914-466d-bb23-e381c4809a51",
     "showTitle": false,
     "title": ""
    }
   },
   "outputs": [
    {
     "output_type": "display_data",
     "data": {
      "text/html": [
       "<style scoped>\n",
       "  .table-result-container {\n",
       "    max-height: 300px;\n",
       "    overflow: auto;\n",
       "  }\n",
       "  table, th, td {\n",
       "    border: 1px solid black;\n",
       "    border-collapse: collapse;\n",
       "  }\n",
       "  th, td {\n",
       "    padding: 5px;\n",
       "  }\n",
       "  th {\n",
       "    text-align: left;\n",
       "  }\n",
       "</style><div class='table-result-container'><table class='table-result'><thead style='background-color: white'><tr><th>index</th><th>SubmittoProc</th><th>UWSubmission</th><th>FinalApproval</th><th>Funded</th></tr></thead><tbody><tr><td>2023-04</td><td>0.1371841155234657</td><td>0.21660649819494585</td><td>0.3212996389891697</td><td>0.3285198555956679</td></tr><tr><td>2023-05</td><td>0.15737704918032788</td><td>0.21311475409836064</td><td>0.4</td><td>0.40327868852459015</td></tr><tr><td>2023-03</td><td>0.15139442231075698</td><td>0.23107569721115537</td><td>0.3426294820717131</td><td>0.3466135458167331</td></tr><tr><td>2023-06</td><td>0.13360323886639677</td><td>0.17408906882591094</td><td>0.340080971659919</td><td>0.3562753036437247</td></tr><tr><td>2022-11</td><td>0.2676767676767677</td><td>0.9747474747474747</td><td>0.4595959595959596</td><td>0.40404040404040403</td></tr><tr><td>2023-02</td><td>0.15463917525773196</td><td>0.23711340206185566</td><td>0.33505154639175255</td><td>0.3247422680412371</td></tr><tr><td>2022-09</td><td>0.2186046511627907</td><td>0.9720930232558139</td><td>0.3813953488372093</td><td>0.3813953488372093</td></tr><tr><td>2022-10</td><td>0.30864197530864196</td><td>0.9444444444444444</td><td>0.4444444444444444</td><td>0.4444444444444444</td></tr><tr><td>2022-12</td><td>0.17834394904458598</td><td>0.9808917197452229</td><td>0.3057324840764331</td><td>0.31210191082802546</td></tr><tr><td>2023-01</td><td>0.19642857142857142</td><td>0.48660714285714285</td><td>0.3705357142857143</td><td>0.32142857142857145</td></tr><tr><td>2022-06</td><td>0.2264808362369338</td><td>1.0</td><td>0.4146341463414634</td><td>0.4146341463414634</td></tr><tr><td>2022-02</td><td>0.2042042042042042</td><td>1.0</td><td>0.39039039039039036</td><td>0.39039039039039036</td></tr><tr><td>2022-01</td><td>0.20630372492836677</td><td>1.0</td><td>0.33810888252148996</td><td>0.33810888252148996</td></tr><tr><td>2022-03</td><td>0.15466666666666667</td><td>1.0</td><td>0.312</td><td>0.31733333333333336</td></tr><tr><td>2022-04</td><td>0.24691358024691357</td><td>1.0</td><td>0.4382716049382716</td><td>0.4382716049382716</td></tr><tr><td>2022-05</td><td>0.19863013698630136</td><td>1.0</td><td>0.3904109589041096</td><td>0.4006849315068493</td></tr><tr><td>2022-07</td><td>0.23934426229508196</td><td>0.9606557377049181</td><td>0.3770491803278688</td><td>0.3770491803278688</td></tr><tr><td>2022-08</td><td>0.23389830508474577</td><td>0.9627118644067797</td><td>0.3864406779661017</td><td>0.3898305084745763</td></tr></tbody></table></div>"
      ]
     },
     "metadata": {
      "application/vnd.databricks.v1+output": {
       "addedWidgets": {},
       "aggData": [],
       "aggError": "",
       "aggOverflow": false,
       "aggSchema": [],
       "aggSeriesLimitReached": false,
       "aggType": "",
       "arguments": {},
       "columnCustomDisplayInfos": {},
       "data": [
        [
         "2023-04",
         0.1371841155234657,
         0.21660649819494585,
         0.3212996389891697,
         0.3285198555956679
        ],
        [
         "2023-05",
         0.15737704918032788,
         0.21311475409836064,
         0.4,
         0.40327868852459015
        ],
        [
         "2023-03",
         0.15139442231075698,
         0.23107569721115537,
         0.3426294820717131,
         0.3466135458167331
        ],
        [
         "2023-06",
         0.13360323886639677,
         0.17408906882591094,
         0.340080971659919,
         0.3562753036437247
        ],
        [
         "2022-11",
         0.2676767676767677,
         0.9747474747474747,
         0.4595959595959596,
         0.40404040404040403
        ],
        [
         "2023-02",
         0.15463917525773196,
         0.23711340206185566,
         0.33505154639175255,
         0.3247422680412371
        ],
        [
         "2022-09",
         0.2186046511627907,
         0.9720930232558139,
         0.3813953488372093,
         0.3813953488372093
        ],
        [
         "2022-10",
         0.30864197530864196,
         0.9444444444444444,
         0.4444444444444444,
         0.4444444444444444
        ],
        [
         "2022-12",
         0.17834394904458598,
         0.9808917197452229,
         0.3057324840764331,
         0.31210191082802546
        ],
        [
         "2023-01",
         0.19642857142857142,
         0.48660714285714285,
         0.3705357142857143,
         0.32142857142857145
        ],
        [
         "2022-06",
         0.2264808362369338,
         1.0,
         0.4146341463414634,
         0.4146341463414634
        ],
        [
         "2022-02",
         0.2042042042042042,
         1.0,
         0.39039039039039036,
         0.39039039039039036
        ],
        [
         "2022-01",
         0.20630372492836677,
         1.0,
         0.33810888252148996,
         0.33810888252148996
        ],
        [
         "2022-03",
         0.15466666666666667,
         1.0,
         0.312,
         0.31733333333333336
        ],
        [
         "2022-04",
         0.24691358024691357,
         1.0,
         0.4382716049382716,
         0.4382716049382716
        ],
        [
         "2022-05",
         0.19863013698630136,
         1.0,
         0.3904109589041096,
         0.4006849315068493
        ],
        [
         "2022-07",
         0.23934426229508196,
         0.9606557377049181,
         0.3770491803278688,
         0.3770491803278688
        ],
        [
         "2022-08",
         0.23389830508474577,
         0.9627118644067797,
         0.3864406779661017,
         0.3898305084745763
        ]
       ],
       "datasetInfos": [],
       "dbfsResultPath": null,
       "isJsonSchema": true,
       "metadata": {},
       "overflow": false,
       "plotOptions": {
        "customPlotOptions": {},
        "displayType": "table",
        "pivotAggregation": null,
        "pivotColumns": null,
        "xColumns": null,
        "yColumns": null
       },
       "removedWidgets": [],
       "schema": [
        {
         "metadata": "{}",
         "name": "index",
         "type": "\"string\""
        },
        {
         "metadata": "{}",
         "name": "SubmittoProc",
         "type": "\"double\""
        },
        {
         "metadata": "{}",
         "name": "UWSubmission",
         "type": "\"double\""
        },
        {
         "metadata": "{}",
         "name": "FinalApproval",
         "type": "\"double\""
        },
        {
         "metadata": "{}",
         "name": "Funded",
         "type": "\"double\""
        }
       ],
       "type": "table"
      }
     },
     "output_type": "display_data"
    },
    {
     "output_type": "display_data",
     "data": {
      "text/plain": [
       "Databricks visualization. Run in Databricks to view."
      ]
     },
     "metadata": {
      "application/vnd.databricks.v1.subcommand+json": {
       "baseErrorDetails": null,
       "bindings": {},
       "collapsed": false,
       "command": "%python\n__backend_agg_display_orig = display\n__backend_agg_dfs = []\ndef __backend_agg_display_new(df):\n    __backend_agg_df_modules = [\"pandas.core.frame\", \"databricks.koalas.frame\", \"pyspark.sql.dataframe\", \"pyspark.pandas.frame\", \"pyspark.sql.connect.dataframe\"]\n    if (type(df).__module__ in __backend_agg_df_modules and type(df).__name__ == 'DataFrame') or isinstance(df, list):\n        __backend_agg_dfs.append(df)\n\ndisplay = __backend_agg_display_new\n\ndef __backend_agg_user_code_fn():\n    import base64\n    exec(base64.standard_b64decode(\"IyBmYWxsb3V0MTY4ID0gY2FsY3VsYXRlX21vbnRobHlfZmFsbG91dChmYWxsb3V0XzE2OCkKIyBmYWxsb3V0MTY4ID0gZmFsbG91dDE2OC5yZXNldF9pbmRleCgpCmZhbGxvdXQxNjhbJ2luZGV4J10gPSBmYWxsb3V0MTY4WydpbmRleCddLmFzdHlwZShzdHIpCmRpc3BsYXkoZmFsbG91dDE2OCkKIyBmYWxsb3V0MTY4LmluZm8oKQ==\").decode())\n\ntry:\n    # run user code\n    __backend_agg_user_code_fn()\n\n    #reset display function\n    display = __backend_agg_display_orig\n\n    if len(__backend_agg_dfs) > 0:\n        # create a temp view\n        if type(__backend_agg_dfs[0]).__module__ == \"databricks.koalas.frame\":\n            # koalas dataframe\n            __backend_agg_dfs[0].to_spark().createOrReplaceTempView(\"DatabricksView17a6eec\")\n        elif type(__backend_agg_dfs[0]).__module__ == \"pandas.core.frame\" or isinstance(__backend_agg_dfs[0], list):\n            # pandas dataframe\n            spark.createDataFrame(__backend_agg_dfs[0]).createOrReplaceTempView(\"DatabricksView17a6eec\")\n        else:\n            __backend_agg_dfs[0].createOrReplaceTempView(\"DatabricksView17a6eec\")\n        #run backend agg\n        display(spark.sql(\"\"\"WITH q AS (select * from DatabricksView17a6eec) SELECT `index`,SUM(`SubmittoProc`) `column_53bf146b34`,SUM(`UWSubmission`) `column_53bf146b36`,SUM(`FinalApproval`) `column_53bf146b38`,SUM(`Funded`) `column_53bf146b40` FROM q GROUP BY `index`\"\"\"))\n    else:\n        displayHTML(\"dataframe no longer exists. If you're using dataframe.display(), use display(dataframe) instead.\")\n\n\nfinally:\n    spark.sql(\"drop view if exists DatabricksView17a6eec\")\n    display = __backend_agg_display_orig\n    del __backend_agg_display_new\n    del __backend_agg_display_orig\n    del __backend_agg_dfs\n    del __backend_agg_user_code_fn\n\n",
       "commandTitle": "Visualization 1",
       "commandType": "auto",
       "commandVersion": 0,
       "commentThread": [],
       "commentsVisible": false,
       "contentSha256Hex": null,
       "customPlotOptions": {
        "redashChart": [
         {
          "key": "type",
          "value": "CHART"
         },
         {
          "key": "options",
          "value": {
           "alignYAxesAtZero": true,
           "coefficient": 1,
           "columnConfigurationMap": {
            "x": {
             "column": "index",
             "id": "column_53bf146b32"
            },
            "y": [
             {
              "column": "SubmittoProc",
              "id": "column_53bf146b34",
              "transform": "SUM"
             },
             {
              "column": "UWSubmission",
              "id": "column_53bf146b36",
              "transform": "SUM"
             },
             {
              "column": "FinalApproval",
              "id": "column_53bf146b38",
              "transform": "SUM"
             },
             {
              "column": "Funded",
              "id": "column_53bf146b40",
              "transform": "SUM"
             }
            ]
           },
           "dateTimeFormat": "DD/MM/YYYY HH:mm",
           "direction": {
            "type": "counterclockwise"
           },
           "error_y": {
            "type": "data",
            "visible": true
           },
           "globalSeriesType": "area",
           "isAggregationOn": true,
           "legend": {
            "traceorder": "normal"
           },
           "missingValuesAsZero": true,
           "numberFormat": "0,0.[00000]",
           "percentFormat": "0[.]00%",
           "series": {
            "error_y": {
             "type": "data",
             "visible": true
            },
            "stacking": null
           },
           "seriesOptions": {
            "column_53bf146b34": {
             "type": "area",
             "yAxis": 0
            },
            "column_53bf146b36": {
             "type": "area",
             "yAxis": 0
            },
            "column_53bf146b38": {
             "type": "area",
             "yAxis": 0
            },
            "column_53bf146b40": {
             "type": "area",
             "yAxis": 0
            }
           },
           "showDataLabels": false,
           "sizemode": "diameter",
           "sortX": true,
           "sortY": true,
           "swappedAxes": false,
           "textFormat": "",
           "useAggregationsUi": true,
           "valuesOptions": {},
           "version": 2,
           "xAxis": {
            "labels": {
             "enabled": true
            },
            "type": "-"
           },
           "yAxis": [
            {
             "type": "-"
            },
            {
             "opposite": true,
             "type": "-"
            }
           ]
          }
         }
        ]
       },
       "datasetPreviewNameToCmdIdMap": {},
       "diffDeletes": [],
       "diffInserts": [],
       "displayType": "redashChart",
       "error": null,
       "errorDetails": null,
       "errorSummary": null,
       "errorTraceType": null,
       "finishTime": 0,
       "globalVars": {},
       "guid": "",
       "height": "auto",
       "hideCommandCode": false,
       "hideCommandResult": false,
       "iPythonMetadata": null,
       "inputWidgets": {},
       "isLockedInExamMode": false,
       "latestUser": "a user",
       "latestUserId": null,
       "listResultMetadata": null,
       "metadata": {},
       "nuid": "ccb588e8-17db-4b7a-b34d-1172d9922d1d",
       "origId": 0,
       "parentHierarchy": [],
       "pivotAggregation": null,
       "pivotColumns": null,
       "position": 3.035514086484909,
       "resultDbfsErrorMessage": null,
       "resultDbfsStatus": "INLINED_IN_TREE",
       "results": null,
       "showCommandTitle": false,
       "startTime": 0,
       "state": "input",
       "streamStates": {},
       "subcommandOptions": {
        "queryPlan": {
         "groups": [
          {
           "column": "index",
           "type": "column"
          }
         ],
         "selects": [
          {
           "column": "index",
           "type": "column"
          },
          {
           "alias": "column_53bf146b34",
           "args": [
            {
             "column": "SubmittoProc",
             "type": "column"
            }
           ],
           "function": "SUM",
           "type": "function"
          },
          {
           "alias": "column_53bf146b36",
           "args": [
            {
             "column": "UWSubmission",
             "type": "column"
            }
           ],
           "function": "SUM",
           "type": "function"
          },
          {
           "alias": "column_53bf146b38",
           "args": [
            {
             "column": "FinalApproval",
             "type": "column"
            }
           ],
           "function": "SUM",
           "type": "function"
          },
          {
           "alias": "column_53bf146b40",
           "args": [
            {
             "column": "Funded",
             "type": "column"
            }
           ],
           "function": "SUM",
           "type": "function"
          }
         ]
        }
       },
       "submitTime": 0,
       "subtype": "tableResultSubCmd.visualization",
       "tableResultIndex": 0,
       "useConsistentColors": false,
       "version": "CommandV1",
       "width": "auto",
       "workflows": [],
       "xColumns": null,
       "yColumns": null
      }
     },
     "output_type": "display_data"
    }
   ],
   "source": [
    "## this is just to show outputs, and won't be automated unless otherwise specified...\n",
    "fallout168 = clean_clients_fallouts[192].reset_index()\n",
    "fallout168['index'] = fallout168['index'].astype(str)\n",
    "\n",
    "display(fallout168)"
   ]
  },
  {
   "cell_type": "markdown",
   "metadata": {
    "application/vnd.databricks.v1+cell": {
     "cellMetadata": {
      "byteLimit": 2048000,
      "rowLimit": 10000
     },
     "inputWidgets": {},
     "nuid": "5dcac5f8-2d97-408b-b583-7234e5b8ca5b",
     "showTitle": false,
     "title": ""
    }
   },
   "source": [
    "#### Analysis on fallout \n",
    " - we need to figure out **if fallouts are stable across months**\n",
    "    - should we use **average monthly fallouts** for forcasts?\n",
    "    - or **forecast monthly-fallouts trends?**"
   ]
  },
  {
   "cell_type": "code",
   "execution_count": 0,
   "metadata": {
    "application/vnd.databricks.v1+cell": {
     "cellMetadata": {
      "byteLimit": 2048000,
      "rowLimit": 10000
     },
     "inputWidgets": {},
     "nuid": "51617fc0-9ad6-4b31-993f-2fefedded50b",
     "showTitle": false,
     "title": ""
    }
   },
   "outputs": [],
   "source": [
    "def analyze_monthly_fallout_stability(client_fallouts, clientkey):\n",
    "\n",
    "    print(f\"Analyzing monthly fallout stability for client: {clientkey}\")\n",
    "    df = client_fallouts[clientkey]\n",
    "\n",
    "     # Sort index by date\n",
    "    df = df.reset_index()  \n",
    "    df = df.sort_values('index')\n",
    "    df = df.set_index('index')\n",
    "\n",
    "    # Calculate rolling stats\n",
    "    roll_mean = df.rolling(window=3).mean()\n",
    "    roll_std = df.rolling(window=3).std()\n",
    "    \n",
    "    # Check if stdev is within 10% of mean \n",
    "    stable_cols = roll_std.columns[roll_std.max() < 0.16*roll_mean.min()]\n",
    "\n",
    "    # Create dataframes\n",
    "    roll_mean_df = pd.DataFrame(roll_mean)\n",
    "    roll_std_df = pd.DataFrame(roll_std)\n",
    "    stable_cols_df = pd.DataFrame({'Stable Fallout Columns': stable_cols})\n",
    "\n",
    "    # Check if stdev is within 16% of mean (arbitrary threshold)\n",
    "    if len(stable_cols) > 0:\n",
    "        print(f\"\\nFallouts in columns {list(stable_cols)} seem stable enough to use average fallouts.\")\n",
    "    else:\n",
    "        print(\"\\nNo fallout columns appear stable enough to use average fallouts.\")\n",
    "\n",
    "    return roll_mean_df, roll_std_df, stable_cols_df"
   ]
  },
  {
   "cell_type": "code",
   "execution_count": 0,
   "metadata": {
    "application/vnd.databricks.v1+cell": {
     "cellMetadata": {
      "byteLimit": 2048000,
      "rowLimit": 10000
     },
     "inputWidgets": {},
     "nuid": "3a4ef31d-31bc-4221-862d-97d976fa3b8a",
     "showTitle": false,
     "title": ""
    }
   },
   "outputs": [
    {
     "output_type": "stream",
     "name": "stdout",
     "output_type": "stream",
     "text": [
      "Analyzing monthly fallout stability for client: 192\n\nNo fallout columns appear stable enough to use average fallouts.\n"
     ]
    }
   ],
   "source": [
    "mean_df, std_df, stable_df = analyze_monthly_fallout_stability(clean_clients_fallouts, 192)"
   ]
  },
  {
   "cell_type": "code",
   "execution_count": 0,
   "metadata": {
    "application/vnd.databricks.v1+cell": {
     "cellMetadata": {
      "byteLimit": 2048000,
      "rowLimit": 10000
     },
     "inputWidgets": {},
     "nuid": "d9e0ba9e-8411-4ee2-bcf8-3f0f1643196d",
     "showTitle": false,
     "title": ""
    }
   },
   "outputs": [
    {
     "output_type": "execute_result",
     "data": {
      "text/html": [
       "<div>\n",
       "<style scoped>\n",
       "    .dataframe tbody tr th:only-of-type {\n",
       "        vertical-align: middle;\n",
       "    }\n",
       "\n",
       "    .dataframe tbody tr th {\n",
       "        vertical-align: top;\n",
       "    }\n",
       "\n",
       "    .dataframe thead th {\n",
       "        text-align: right;\n",
       "    }\n",
       "</style>\n",
       "<table border=\"1\" class=\"dataframe\">\n",
       "  <thead>\n",
       "    <tr style=\"text-align: right;\">\n",
       "      <th></th>\n",
       "      <th>SubmittoProc</th>\n",
       "      <th>UWSubmission</th>\n",
       "      <th>FinalApproval</th>\n",
       "      <th>Funded</th>\n",
       "    </tr>\n",
       "    <tr>\n",
       "      <th>index</th>\n",
       "      <th></th>\n",
       "      <th></th>\n",
       "      <th></th>\n",
       "      <th></th>\n",
       "    </tr>\n",
       "  </thead>\n",
       "  <tbody>\n",
       "    <tr>\n",
       "      <th>2022-01</th>\n",
       "      <td>NaN</td>\n",
       "      <td>NaN</td>\n",
       "      <td>NaN</td>\n",
       "      <td>NaN</td>\n",
       "    </tr>\n",
       "    <tr>\n",
       "      <th>2022-02</th>\n",
       "      <td>NaN</td>\n",
       "      <td>NaN</td>\n",
       "      <td>NaN</td>\n",
       "      <td>NaN</td>\n",
       "    </tr>\n",
       "    <tr>\n",
       "      <th>2022-03</th>\n",
       "      <td>0.188392</td>\n",
       "      <td>1.000000</td>\n",
       "      <td>0.346833</td>\n",
       "      <td>0.348611</td>\n",
       "    </tr>\n",
       "    <tr>\n",
       "      <th>2022-04</th>\n",
       "      <td>0.201928</td>\n",
       "      <td>1.000000</td>\n",
       "      <td>0.380221</td>\n",
       "      <td>0.381998</td>\n",
       "    </tr>\n",
       "    <tr>\n",
       "      <th>2022-05</th>\n",
       "      <td>0.200070</td>\n",
       "      <td>1.000000</td>\n",
       "      <td>0.380228</td>\n",
       "      <td>0.385430</td>\n",
       "    </tr>\n",
       "    <tr>\n",
       "      <th>2022-06</th>\n",
       "      <td>0.224008</td>\n",
       "      <td>1.000000</td>\n",
       "      <td>0.414439</td>\n",
       "      <td>0.417864</td>\n",
       "    </tr>\n",
       "    <tr>\n",
       "      <th>2022-07</th>\n",
       "      <td>0.221485</td>\n",
       "      <td>0.986885</td>\n",
       "      <td>0.394031</td>\n",
       "      <td>0.397456</td>\n",
       "    </tr>\n",
       "    <tr>\n",
       "      <th>2022-08</th>\n",
       "      <td>0.233241</td>\n",
       "      <td>0.974456</td>\n",
       "      <td>0.392708</td>\n",
       "      <td>0.393838</td>\n",
       "    </tr>\n",
       "    <tr>\n",
       "      <th>2022-09</th>\n",
       "      <td>0.230616</td>\n",
       "      <td>0.965154</td>\n",
       "      <td>0.381628</td>\n",
       "      <td>0.382758</td>\n",
       "    </tr>\n",
       "    <tr>\n",
       "      <th>2022-10</th>\n",
       "      <td>0.253715</td>\n",
       "      <td>0.959750</td>\n",
       "      <td>0.404093</td>\n",
       "      <td>0.405223</td>\n",
       "    </tr>\n",
       "    <tr>\n",
       "      <th>2022-11</th>\n",
       "      <td>0.264974</td>\n",
       "      <td>0.963762</td>\n",
       "      <td>0.428479</td>\n",
       "      <td>0.409960</td>\n",
       "    </tr>\n",
       "    <tr>\n",
       "      <th>2022-12</th>\n",
       "      <td>0.251554</td>\n",
       "      <td>0.966695</td>\n",
       "      <td>0.403258</td>\n",
       "      <td>0.386862</td>\n",
       "    </tr>\n",
       "    <tr>\n",
       "      <th>2023-01</th>\n",
       "      <td>0.214150</td>\n",
       "      <td>0.814082</td>\n",
       "      <td>0.378621</td>\n",
       "      <td>0.345857</td>\n",
       "    </tr>\n",
       "    <tr>\n",
       "      <th>2023-02</th>\n",
       "      <td>0.176471</td>\n",
       "      <td>0.568204</td>\n",
       "      <td>0.337107</td>\n",
       "      <td>0.319424</td>\n",
       "    </tr>\n",
       "    <tr>\n",
       "      <th>2023-03</th>\n",
       "      <td>0.167487</td>\n",
       "      <td>0.318265</td>\n",
       "      <td>0.349406</td>\n",
       "      <td>0.330928</td>\n",
       "    </tr>\n",
       "    <tr>\n",
       "      <th>2023-04</th>\n",
       "      <td>0.147739</td>\n",
       "      <td>0.228265</td>\n",
       "      <td>0.332994</td>\n",
       "      <td>0.333292</td>\n",
       "    </tr>\n",
       "    <tr>\n",
       "      <th>2023-05</th>\n",
       "      <td>0.148652</td>\n",
       "      <td>0.220266</td>\n",
       "      <td>0.354643</td>\n",
       "      <td>0.359471</td>\n",
       "    </tr>\n",
       "    <tr>\n",
       "      <th>2023-06</th>\n",
       "      <td>0.142721</td>\n",
       "      <td>0.201270</td>\n",
       "      <td>0.353794</td>\n",
       "      <td>0.362691</td>\n",
       "    </tr>\n",
       "  </tbody>\n",
       "</table>\n",
       "</div>"
      ],
      "text/plain": [
       "         SubmittoProc  UWSubmission  FinalApproval    Funded\n",
       "index                                                       \n",
       "2022-01           NaN           NaN            NaN       NaN\n",
       "2022-02           NaN           NaN            NaN       NaN\n",
       "2022-03      0.188392      1.000000       0.346833  0.348611\n",
       "2022-04      0.201928      1.000000       0.380221  0.381998\n",
       "2022-05      0.200070      1.000000       0.380228  0.385430\n",
       "2022-06      0.224008      1.000000       0.414439  0.417864\n",
       "2022-07      0.221485      0.986885       0.394031  0.397456\n",
       "2022-08      0.233241      0.974456       0.392708  0.393838\n",
       "2022-09      0.230616      0.965154       0.381628  0.382758\n",
       "2022-10      0.253715      0.959750       0.404093  0.405223\n",
       "2022-11      0.264974      0.963762       0.428479  0.409960\n",
       "2022-12      0.251554      0.966695       0.403258  0.386862\n",
       "2023-01      0.214150      0.814082       0.378621  0.345857\n",
       "2023-02      0.176471      0.568204       0.337107  0.319424\n",
       "2023-03      0.167487      0.318265       0.349406  0.330928\n",
       "2023-04      0.147739      0.228265       0.332994  0.333292\n",
       "2023-05      0.148652      0.220266       0.354643  0.359471\n",
       "2023-06      0.142721      0.201270       0.353794  0.362691"
      ]
     },
     "execution_count": 66,
     "metadata": {},
     "output_type": "execute_result"
    }
   ],
   "source": [
    "mean_df\n",
    "### indicate assumptions : past 6mo is indictive of next 12mo...\n",
    "\n",
    "## i will wait to apply this to forecast till i clean/functionalize forecast code"
   ]
  },
  {
   "cell_type": "markdown",
   "metadata": {
    "application/vnd.databricks.v1+cell": {
     "cellMetadata": {
      "byteLimit": 2048000,
      "rowLimit": 10000
     },
     "inputWidgets": {},
     "nuid": "bd116b68-c623-4821-91e4-17e1f925dee8",
     "showTitle": false,
     "title": ""
    }
   },
   "source": [
    "**Rolling 3-month Mean DataFrame** - This shows the 3-month rolling average fallout rate for each stage. - Look at the trend in means over time - a flat trend indicates stable fallout rates. An increasing or decreasing trend indicates changing fallout rates. - A flat trend supports using the average fallout rate for forecasting. A changing trend suggests forecasting monthly trends may be better. \n",
    "\n",
    "**Rolling 3-month Std Dev DataFrame** - This shows the 3-month rolling standard deviation in fallout rates. - Lower standard deviation indicates more stable fallout rates. Higher standard deviation indicates more variability/volatility. - Low, stable STD across time supports using average fallouts for forecasting. High or increasing STD suggests monthly trends may need to be forecasted. \n",
    "\n",
    "**Stable Columns DataFrame** - This identifies columns where the STD is within 10% of the mean. - Columns listed here have relatively low variability compared to the mean. - These columns likely have stable enough fallout rates to use the averages. \n",
    "\n",
    "Columns not listed may require forecasting monthly trends. \n",
    "\n",
    "**Interpretation** - \n",
    "\n",
    "- Flat rolling means: low/stable rolling STD, and many columns listed as \"stable\" support the hypothesis that monthly fallouts are stable enough to use average rates for forecasting. -\n",
    "\n",
    "- Increasing/decreasing rolling means, high/increasing rolling STD, and few stable columns suggests monthly fallout trends may need to be forecasted rather than just using the averages. \n",
    "\n",
    "So in summary, these dataframes allow assessing the stability of monthly fallouts to determine whether averages or monthly trends would be better for forecasting. Flat trends in the means, low STD, and many stable columns supports using averages."
   ]
  },
  {
   "cell_type": "code",
   "execution_count": 0,
   "metadata": {
    "application/vnd.databricks.v1+cell": {
     "cellMetadata": {
      "byteLimit": 2048000,
      "rowLimit": 10000
     },
     "inputWidgets": {},
     "nuid": "9704788b-a8cc-49b3-9e2e-71ef99609c33",
     "showTitle": false,
     "title": ""
    }
   },
   "outputs": [],
   "source": [
    "import matplotlib.pyplot as plt\n",
    "from statsmodels.tsa.stattools import adfuller\n",
    "\n",
    "def analyze_fallout_stability(df):\n",
    "  \n",
    "#   print('Original DataFrame:')\n",
    "#   print(df.head())\n",
    "  \n",
    "  # Calculate rolling averages\n",
    "#   df = df.set_index('SubmittoProc')\n",
    "  for col in df.columns:\n",
    "    df[f'{col}_roll'] = df[col].rolling(3).mean()\n",
    "  \n",
    "  print('\\nDataFrame with Rolling Averages:')\n",
    "  print(df.head())\n",
    "\n",
    "  # Visualize \n",
    "  plt.figure(figsize=(10, 5))\n",
    "  df.plot(y=['Funded', 'Funded_roll'])\n",
    "  plt.title('Funded Fallout Rate for Client 168')\n",
    "  plt.ylabel('Fallout %')\n",
    "  plt.show()\n",
    "\n",
    "  # Statistical tests\n",
    "  for col in df.columns:\n",
    "    result = adfuller(df[f'{col}_roll'])\n",
    "    print(f'ADF Statistic for {col}: {result[0]}')\n",
    "    print(f'p-value: {result[1]}')\n",
    "    print(f'Critical Values: {result[4]}')\n",
    "\n",
    "  print('\\nCoefficient of Variation:')\n",
    "  print(df.std() / df.mean())\n",
    "\n",
    "  # Compare across years\n",
    "  df['Year'] = df.index.year\n",
    "  yearly_avg = df.groupby('Year').mean()\n",
    "  print('\\nYearly Averages:')\n",
    "  print(yearly_avg)"
   ]
  },
  {
   "cell_type": "code",
   "execution_count": 0,
   "metadata": {
    "application/vnd.databricks.v1+cell": {
     "cellMetadata": {
      "byteLimit": 2048000,
      "rowLimit": 10000
     },
     "inputWidgets": {},
     "nuid": "ee288bce-30f7-4bbd-9833-bca68dba11a3",
     "showTitle": false,
     "title": ""
    }
   },
   "outputs": [],
   "source": [
    "# Forecast subsequent rows based on previous forecast\n",
    "for i in range(1, len(MBA_clean_clients_loan_totals)):\n",
    "  \n",
    "  if pd.isnull(MBA_clean_clients_loan_totals['LoanAmount_Forecast'].iloc[i]):\n",
    "    forecast_pct = 1 + MBA_clean_clients_loan_totals['NormalizedForecast_m'].iloc[i]/100\n",
    "    prev_forecast = MBA_clean_clients_loan_totals['LoanAmount_Forecast'].iloc[i-1]\n",
    "    forecast_amount = prev_forecast * forecast_pct\n",
    "    \n",
    "    MBA_clean_clients_loan_totals['LoanAmount_Forecast'].iloc[i] = forecast_amount\n",
    "\n",
    "  if pd.isnull(MBA_clean_clients_loan_totals['LoanVolume_Forecast'].iloc[i]):  \n",
    "    forecast_pct = 1 + MBA_clean_clients_loan_totals['NormalizedForecast_m'].iloc[i]/100\n",
    "    prev_forecast = MBA_clean_clients_loan_totals['LoanVolume_Forecast'].iloc[i-1]  \n",
    "    forecast_volume = prev_forecast * forecast_pct\n",
    "\n",
    "    MBA_clean_clients_loan_totals['LoanVolume_Forecast'].iloc[i] = forecast_volume\n",
    "\n",
    "# Format date    \n",
    "MBA_clean_clients_loan_totals['YMD'] = MBA_clean_clients_loan_totals['YMD'].dt.strftime('%Y-%m-%d') \n",
    "\n",
    "# Subset data\n",
    "MBA_clean_clients_loan_totals_sub = MBA_clean_clients_loan_totals[~MBA_clean_clients_loan_totals['Quarter'].str.contains('25')]\n",
    "\n",
    "display(MBA_clean_clients_loan_totals_sub)"
   ]
  }
 ],
 "metadata": {
  "application/vnd.databricks.v1+notebook": {
   "dashboards": [],
   "language": "python",
   "notebookMetadata": {
    "pythonIndentUnit": 4
   },
   "notebookName": "Volume Forecast_DBx",
   "widgets": {}
  }
 },
 "nbformat": 4,
 "nbformat_minor": 0
}
